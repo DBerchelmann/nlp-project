{
 "cells": [
  {
   "cell_type": "code",
   "execution_count": 1,
   "metadata": {},
   "outputs": [],
   "source": [
    "#prep data"
   ]
  },
  {
   "cell_type": "code",
   "execution_count": 2,
   "metadata": {},
   "outputs": [],
   "source": [
    "import os\n",
    "import json\n",
    "from typing import Dict, List, Optional, Union, cast\n",
    "import requests\n",
    "import pandas as pd\n",
    "import numpy as np\n",
    "import bs4\n",
    "import time\n",
    "\n",
    "from sklearn.feature_extraction.text import TfidfVectorizer\n",
    "import nltk\n",
    "import unicodedata\n",
    "import re\n",
    "\n",
    "import matplotlib.pyplot as plt\n",
    "from sklearn.model_selection import train_test_split\n",
    "from sklearn.linear_model import LogisticRegression\n",
    "from sklearn.neighbors import KNeighborsClassifier\n",
    "from sklearn.ensemble import RandomForestClassifier\n",
    "from sklearn.tree import DecisionTreeClassifier\n",
    "from sklearn.metrics import classification_report, accuracy_score\n",
    "\n",
    "from env import github_token, github_username\n",
    "\n",
    "import acquire"
   ]
  },
  {
   "cell_type": "code",
   "execution_count": 3,
   "metadata": {},
   "outputs": [],
   "source": [
    "df = pd.read_csv (r'f1_readmes.csv')"
   ]
  },
  {
   "cell_type": "code",
   "execution_count": 4,
   "metadata": {},
   "outputs": [
    {
     "data": {
      "text/html": [
       "<div>\n",
       "<style scoped>\n",
       "    .dataframe tbody tr th:only-of-type {\n",
       "        vertical-align: middle;\n",
       "    }\n",
       "\n",
       "    .dataframe tbody tr th {\n",
       "        vertical-align: top;\n",
       "    }\n",
       "\n",
       "    .dataframe thead th {\n",
       "        text-align: right;\n",
       "    }\n",
       "</style>\n",
       "<table border=\"1\" class=\"dataframe\">\n",
       "  <thead>\n",
       "    <tr style=\"text-align: right;\">\n",
       "      <th></th>\n",
       "      <th>repo</th>\n",
       "      <th>language</th>\n",
       "      <th>readme_contents</th>\n",
       "    </tr>\n",
       "  </thead>\n",
       "  <tbody>\n",
       "    <tr>\n",
       "      <th>0</th>\n",
       "      <td>ppatierno/formula1-telemetry-kafka</td>\n",
       "      <td>Java</td>\n",
       "      <td># Formula 1 - Telemetry with Apache Kafka\\n\\nT...</td>\n",
       "    </tr>\n",
       "    <tr>\n",
       "      <th>1</th>\n",
       "      <td>NVIDIA-AI-IOT/Formula1Epoch</td>\n",
       "      <td>Makefile</td>\n",
       "      <td>[![logo.png](https://s2.postimg.org/fwiu26nmh/...</td>\n",
       "    </tr>\n",
       "    <tr>\n",
       "      <th>2</th>\n",
       "      <td>jcnewell/ergast-f1-api</td>\n",
       "      <td>PHP</td>\n",
       "      <td># Ergast nodeJS API\\nIn this period we are wor...</td>\n",
       "    </tr>\n",
       "    <tr>\n",
       "      <th>3</th>\n",
       "      <td>SOYJUN/FTP-implement-based-on-UDP</td>\n",
       "      <td>C</td>\n",
       "      <td>Copyright (c) 2014 Jun Zeng. &lt;jun.zeng@stonybr...</td>\n",
       "    </tr>\n",
       "    <tr>\n",
       "      <th>4</th>\n",
       "      <td>daz/live-f1</td>\n",
       "      <td>C</td>\n",
       "      <td>live-f1 is a native Linux client for viewing t...</td>\n",
       "    </tr>\n",
       "  </tbody>\n",
       "</table>\n",
       "</div>"
      ],
      "text/plain": [
       "                                 repo  language  \\\n",
       "0  ppatierno/formula1-telemetry-kafka      Java   \n",
       "1         NVIDIA-AI-IOT/Formula1Epoch  Makefile   \n",
       "2              jcnewell/ergast-f1-api       PHP   \n",
       "3   SOYJUN/FTP-implement-based-on-UDP         C   \n",
       "4                         daz/live-f1         C   \n",
       "\n",
       "                                     readme_contents  \n",
       "0  # Formula 1 - Telemetry with Apache Kafka\\n\\nT...  \n",
       "1  [![logo.png](https://s2.postimg.org/fwiu26nmh/...  \n",
       "2  # Ergast nodeJS API\\nIn this period we are wor...  \n",
       "3  Copyright (c) 2014 Jun Zeng. <jun.zeng@stonybr...  \n",
       "4  live-f1 is a native Linux client for viewing t...  "
      ]
     },
     "execution_count": 4,
     "metadata": {},
     "output_type": "execute_result"
    }
   ],
   "source": [
    "df.head()"
   ]
  },
  {
   "cell_type": "code",
   "execution_count": 5,
   "metadata": {},
   "outputs": [],
   "source": [
    "ADDITIONAL_STOPWORDS = ['r', 'u', '2', 'ltgt', '\\n', 'ha']\n",
    "\n",
    "def clean(readme_contents):\n",
    "    \n",
    "    'A simple function to cleanup text data'\n",
    "    \n",
    "    wnl = nltk.stem.WordNetLemmatizer()\n",
    "    stopwords = nltk.corpus.stopwords.words('english') + nltk.corpus.stopwords.words('portuguese') + ADDITIONAL_STOPWORDS\n",
    "    readme_contents = (unicodedata.normalize('NFKD', readme_contents)\n",
    "             .encode('ascii', 'ignore')\n",
    "             .decode('utf-8', 'ignore')\n",
    "             .lower())\n",
    "    words = re.sub(r'[^\\w\\s]', '', readme_contents).split()\n",
    "    return [wnl.lemmatize(word) for word in words if word not in stopwords]"
   ]
  },
  {
   "cell_type": "code",
   "execution_count": 6,
   "metadata": {},
   "outputs": [],
   "source": [
    "null_readme = df[df['readme_contents'].isnull()].index"
   ]
  },
  {
   "cell_type": "code",
   "execution_count": 7,
   "metadata": {},
   "outputs": [
    {
     "data": {
      "text/plain": [
       "pandas.core.indexes.numeric.Int64Index"
      ]
     },
     "execution_count": 7,
     "metadata": {},
     "output_type": "execute_result"
    }
   ],
   "source": [
    "type(null_readme)"
   ]
  },
  {
   "cell_type": "code",
   "execution_count": 8,
   "metadata": {},
   "outputs": [],
   "source": [
    "df.drop(null_readme , inplace=True)"
   ]
  },
  {
   "cell_type": "code",
   "execution_count": 9,
   "metadata": {},
   "outputs": [
    {
     "name": "stdout",
     "output_type": "stream",
     "text": [
      "<class 'pandas.core.frame.DataFrame'>\n",
      "Int64Index: 268 entries, 0 to 325\n",
      "Data columns (total 3 columns):\n",
      " #   Column           Non-Null Count  Dtype \n",
      "---  ------           --------------  ----- \n",
      " 0   repo             268 non-null    object\n",
      " 1   language         241 non-null    object\n",
      " 2   readme_contents  268 non-null    object\n",
      "dtypes: object(3)\n",
      "memory usage: 8.4+ KB\n"
     ]
    }
   ],
   "source": [
    "df.info()"
   ]
  },
  {
   "cell_type": "code",
   "execution_count": null,
   "metadata": {},
   "outputs": [],
   "source": []
  },
  {
   "cell_type": "code",
   "execution_count": 10,
   "metadata": {},
   "outputs": [],
   "source": [
    "#from textblob import TextBlob"
   ]
  },
  {
   "cell_type": "code",
   "execution_count": null,
   "metadata": {},
   "outputs": [],
   "source": []
  },
  {
   "cell_type": "code",
   "execution_count": 11,
   "metadata": {},
   "outputs": [],
   "source": [
    "#df['written_language'] = df['readme_contents'].apply(lambda content: translator.detect(content))"
   ]
  },
  {
   "cell_type": "markdown",
   "metadata": {},
   "source": []
  },
  {
   "cell_type": "code",
   "execution_count": 12,
   "metadata": {},
   "outputs": [
    {
     "data": {
      "text/plain": [
       "JavaScript          55\n",
       "Python              28\n",
       "HTML                20\n",
       "C++                 14\n",
       "Java                14\n",
       "PHP                 14\n",
       "C#                  13\n",
       "TypeScript          13\n",
       "Ruby                11\n",
       "Jupyter Notebook     9\n",
       "R                    8\n",
       "C                    7\n",
       "CSS                  7\n",
       "Kotlin               4\n",
       "Swift                3\n",
       "Scala                2\n",
       "TSQL                 2\n",
       "PLpgSQL              2\n",
       "Matlab               2\n",
       "Go                   2\n",
       "Makefile             1\n",
       "Visual Basic         1\n",
       "Verilog              1\n",
       "Dart                 1\n",
       "Pascal               1\n",
       "SCSS                 1\n",
       "PLSQL                1\n",
       "F#                   1\n",
       "q                    1\n",
       "Shell                1\n",
       "TeX                  1\n",
       "Name: language, dtype: int64"
      ]
     },
     "execution_count": 12,
     "metadata": {},
     "output_type": "execute_result"
    }
   ],
   "source": [
    "df.language.value_counts()"
   ]
  },
  {
   "cell_type": "code",
   "execution_count": null,
   "metadata": {},
   "outputs": [],
   "source": []
  },
  {
   "cell_type": "code",
   "execution_count": 13,
   "metadata": {},
   "outputs": [
    {
     "data": {
      "text/html": [
       "<div>\n",
       "<style scoped>\n",
       "    .dataframe tbody tr th:only-of-type {\n",
       "        vertical-align: middle;\n",
       "    }\n",
       "\n",
       "    .dataframe tbody tr th {\n",
       "        vertical-align: top;\n",
       "    }\n",
       "\n",
       "    .dataframe thead th {\n",
       "        text-align: right;\n",
       "    }\n",
       "</style>\n",
       "<table border=\"1\" class=\"dataframe\">\n",
       "  <thead>\n",
       "    <tr style=\"text-align: right;\">\n",
       "      <th></th>\n",
       "      <th>n</th>\n",
       "      <th>percent</th>\n",
       "    </tr>\n",
       "  </thead>\n",
       "  <tbody>\n",
       "    <tr>\n",
       "      <th>JavaScript</th>\n",
       "      <td>55</td>\n",
       "      <td>0.228216</td>\n",
       "    </tr>\n",
       "    <tr>\n",
       "      <th>Python</th>\n",
       "      <td>28</td>\n",
       "      <td>0.116183</td>\n",
       "    </tr>\n",
       "    <tr>\n",
       "      <th>HTML</th>\n",
       "      <td>20</td>\n",
       "      <td>0.082988</td>\n",
       "    </tr>\n",
       "    <tr>\n",
       "      <th>C++</th>\n",
       "      <td>14</td>\n",
       "      <td>0.058091</td>\n",
       "    </tr>\n",
       "    <tr>\n",
       "      <th>Java</th>\n",
       "      <td>14</td>\n",
       "      <td>0.058091</td>\n",
       "    </tr>\n",
       "    <tr>\n",
       "      <th>PHP</th>\n",
       "      <td>14</td>\n",
       "      <td>0.058091</td>\n",
       "    </tr>\n",
       "    <tr>\n",
       "      <th>C#</th>\n",
       "      <td>13</td>\n",
       "      <td>0.053942</td>\n",
       "    </tr>\n",
       "    <tr>\n",
       "      <th>TypeScript</th>\n",
       "      <td>13</td>\n",
       "      <td>0.053942</td>\n",
       "    </tr>\n",
       "    <tr>\n",
       "      <th>Ruby</th>\n",
       "      <td>11</td>\n",
       "      <td>0.045643</td>\n",
       "    </tr>\n",
       "    <tr>\n",
       "      <th>Jupyter Notebook</th>\n",
       "      <td>9</td>\n",
       "      <td>0.037344</td>\n",
       "    </tr>\n",
       "    <tr>\n",
       "      <th>R</th>\n",
       "      <td>8</td>\n",
       "      <td>0.033195</td>\n",
       "    </tr>\n",
       "    <tr>\n",
       "      <th>C</th>\n",
       "      <td>7</td>\n",
       "      <td>0.029046</td>\n",
       "    </tr>\n",
       "    <tr>\n",
       "      <th>CSS</th>\n",
       "      <td>7</td>\n",
       "      <td>0.029046</td>\n",
       "    </tr>\n",
       "    <tr>\n",
       "      <th>Kotlin</th>\n",
       "      <td>4</td>\n",
       "      <td>0.016598</td>\n",
       "    </tr>\n",
       "    <tr>\n",
       "      <th>Swift</th>\n",
       "      <td>3</td>\n",
       "      <td>0.012448</td>\n",
       "    </tr>\n",
       "    <tr>\n",
       "      <th>Scala</th>\n",
       "      <td>2</td>\n",
       "      <td>0.008299</td>\n",
       "    </tr>\n",
       "    <tr>\n",
       "      <th>TSQL</th>\n",
       "      <td>2</td>\n",
       "      <td>0.008299</td>\n",
       "    </tr>\n",
       "    <tr>\n",
       "      <th>PLpgSQL</th>\n",
       "      <td>2</td>\n",
       "      <td>0.008299</td>\n",
       "    </tr>\n",
       "    <tr>\n",
       "      <th>Matlab</th>\n",
       "      <td>2</td>\n",
       "      <td>0.008299</td>\n",
       "    </tr>\n",
       "    <tr>\n",
       "      <th>Go</th>\n",
       "      <td>2</td>\n",
       "      <td>0.008299</td>\n",
       "    </tr>\n",
       "    <tr>\n",
       "      <th>Makefile</th>\n",
       "      <td>1</td>\n",
       "      <td>0.004149</td>\n",
       "    </tr>\n",
       "    <tr>\n",
       "      <th>Visual Basic</th>\n",
       "      <td>1</td>\n",
       "      <td>0.004149</td>\n",
       "    </tr>\n",
       "    <tr>\n",
       "      <th>Verilog</th>\n",
       "      <td>1</td>\n",
       "      <td>0.004149</td>\n",
       "    </tr>\n",
       "    <tr>\n",
       "      <th>Dart</th>\n",
       "      <td>1</td>\n",
       "      <td>0.004149</td>\n",
       "    </tr>\n",
       "    <tr>\n",
       "      <th>Pascal</th>\n",
       "      <td>1</td>\n",
       "      <td>0.004149</td>\n",
       "    </tr>\n",
       "    <tr>\n",
       "      <th>SCSS</th>\n",
       "      <td>1</td>\n",
       "      <td>0.004149</td>\n",
       "    </tr>\n",
       "    <tr>\n",
       "      <th>PLSQL</th>\n",
       "      <td>1</td>\n",
       "      <td>0.004149</td>\n",
       "    </tr>\n",
       "    <tr>\n",
       "      <th>F#</th>\n",
       "      <td>1</td>\n",
       "      <td>0.004149</td>\n",
       "    </tr>\n",
       "    <tr>\n",
       "      <th>q</th>\n",
       "      <td>1</td>\n",
       "      <td>0.004149</td>\n",
       "    </tr>\n",
       "    <tr>\n",
       "      <th>Shell</th>\n",
       "      <td>1</td>\n",
       "      <td>0.004149</td>\n",
       "    </tr>\n",
       "    <tr>\n",
       "      <th>TeX</th>\n",
       "      <td>1</td>\n",
       "      <td>0.004149</td>\n",
       "    </tr>\n",
       "  </tbody>\n",
       "</table>\n",
       "</div>"
      ],
      "text/plain": [
       "                   n   percent\n",
       "JavaScript        55  0.228216\n",
       "Python            28  0.116183\n",
       "HTML              20  0.082988\n",
       "C++               14  0.058091\n",
       "Java              14  0.058091\n",
       "PHP               14  0.058091\n",
       "C#                13  0.053942\n",
       "TypeScript        13  0.053942\n",
       "Ruby              11  0.045643\n",
       "Jupyter Notebook   9  0.037344\n",
       "R                  8  0.033195\n",
       "C                  7  0.029046\n",
       "CSS                7  0.029046\n",
       "Kotlin             4  0.016598\n",
       "Swift              3  0.012448\n",
       "Scala              2  0.008299\n",
       "TSQL               2  0.008299\n",
       "PLpgSQL            2  0.008299\n",
       "Matlab             2  0.008299\n",
       "Go                 2  0.008299\n",
       "Makefile           1  0.004149\n",
       "Visual Basic       1  0.004149\n",
       "Verilog            1  0.004149\n",
       "Dart               1  0.004149\n",
       "Pascal             1  0.004149\n",
       "SCSS               1  0.004149\n",
       "PLSQL              1  0.004149\n",
       "F#                 1  0.004149\n",
       "q                  1  0.004149\n",
       "Shell              1  0.004149\n",
       "TeX                1  0.004149"
      ]
     },
     "execution_count": 13,
     "metadata": {},
     "output_type": "execute_result"
    }
   ],
   "source": [
    "def show_counts_and_ratios(df, column):\n",
    "    \"\"\"\n",
    "    Takes in a dataframe and a string of a single column\n",
    "    Returns a dataframe with absolute value counts and percentage value counts\n",
    "    \"\"\"\n",
    "    labels = pd.concat([df[column].value_counts(),\n",
    "                    df[column].value_counts(normalize=True)], axis=1)\n",
    "    labels.columns = ['n', 'percent']\n",
    "    labels\n",
    "    return labels\n",
    "\n",
    "show_counts_and_ratios(df, \"language\")"
   ]
  },
  {
   "cell_type": "code",
   "execution_count": 14,
   "metadata": {},
   "outputs": [],
   "source": [
    "# seperate the data into seperate pieces \n",
    "\n",
    "js = clean(' '.join(df[df.language == 'JavaScript'].readme_contents))\n",
    "\n",
    "python = clean(' '.join(df[df.language == 'Python'].readme_contents))\n",
    "\n",
    "html = clean(' '.join(df[df.language == 'HTML'].readme_contents))\n",
    "\n",
    "php = clean(' '.join(df[df.language == 'PHP'].readme_contents))\n",
    "\n",
    "cplus = clean(' '.join(df[df.language == 'C++'].readme_contents))\n",
    "\n",
    "java = clean(' '.join(df[df.language == 'Java'].readme_contents))\n",
    "\n",
    "cpound = clean(' '.join(df[df.language == 'C#'].readme_contents))\n",
    "\n",
    "type_script = clean(' '.join(df[df.language == 'TypeScript'].readme_contents))\n",
    "\n",
    "ruby = clean(' '.join(df[df.language == 'Ruby'].readme_contents))\n",
    "\n",
    "all_words = clean(' '.join(df.readme_contents))"
   ]
  },
  {
   "cell_type": "code",
   "execution_count": 15,
   "metadata": {},
   "outputs": [
    {
     "name": "stdout",
     "output_type": "stream",
     "text": [
      "<class 'pandas.core.frame.DataFrame'>\n",
      "Int64Index: 268 entries, 0 to 325\n",
      "Data columns (total 3 columns):\n",
      " #   Column           Non-Null Count  Dtype \n",
      "---  ------           --------------  ----- \n",
      " 0   repo             268 non-null    object\n",
      " 1   language         241 non-null    object\n",
      " 2   readme_contents  268 non-null    object\n",
      "dtypes: object(3)\n",
      "memory usage: 8.4+ KB\n"
     ]
    }
   ],
   "source": [
    "df.info()"
   ]
  },
  {
   "cell_type": "code",
   "execution_count": 16,
   "metadata": {},
   "outputs": [],
   "source": [
    "js_freq = pd.Series(js).value_counts()\n",
    "python_freq = pd.Series(python).value_counts()\n",
    "html_freq = pd.Series(html).value_counts()\n",
    "php_freq = pd.Series(php).value_counts()\n",
    "cplus_freq = pd.Series(cplus).value_counts()\n",
    "java_freq = pd.Series(java).value_counts()\n",
    "cpound_freq = pd.Series(cpound).value_counts()\n",
    "type_script_freq = pd.Series(type_script).value_counts()\n",
    "ruby_freq = pd.Series(ruby).value_counts()\n",
    "all_freq = pd.Series(all_words).value_counts()"
   ]
  },
  {
   "cell_type": "code",
   "execution_count": 17,
   "metadata": {},
   "outputs": [
    {
     "data": {
      "text/html": [
       "<div>\n",
       "<style scoped>\n",
       "    .dataframe tbody tr th:only-of-type {\n",
       "        vertical-align: middle;\n",
       "    }\n",
       "\n",
       "    .dataframe tbody tr th {\n",
       "        vertical-align: top;\n",
       "    }\n",
       "\n",
       "    .dataframe thead th {\n",
       "        text-align: right;\n",
       "    }\n",
       "</style>\n",
       "<table border=\"1\" class=\"dataframe\">\n",
       "  <thead>\n",
       "    <tr style=\"text-align: right;\">\n",
       "      <th></th>\n",
       "      <th>all</th>\n",
       "      <th>js</th>\n",
       "      <th>python</th>\n",
       "      <th>html</th>\n",
       "      <th>php</th>\n",
       "      <th>cplus</th>\n",
       "      <th>java</th>\n",
       "      <th>cpound</th>\n",
       "      <th>typescript</th>\n",
       "      <th>ruby</th>\n",
       "    </tr>\n",
       "  </thead>\n",
       "  <tbody>\n",
       "    <tr>\n",
       "      <th>0</th>\n",
       "      <td>135</td>\n",
       "      <td>3</td>\n",
       "      <td>39</td>\n",
       "      <td>1</td>\n",
       "      <td>1</td>\n",
       "      <td>71</td>\n",
       "      <td>13</td>\n",
       "      <td>0</td>\n",
       "      <td>0</td>\n",
       "      <td>0</td>\n",
       "    </tr>\n",
       "    <tr>\n",
       "      <th>00</th>\n",
       "      <td>3</td>\n",
       "      <td>0</td>\n",
       "      <td>0</td>\n",
       "      <td>0</td>\n",
       "      <td>0</td>\n",
       "      <td>1</td>\n",
       "      <td>0</td>\n",
       "      <td>0</td>\n",
       "      <td>0</td>\n",
       "      <td>0</td>\n",
       "    </tr>\n",
       "    <tr>\n",
       "      <th>0000</th>\n",
       "      <td>15</td>\n",
       "      <td>0</td>\n",
       "      <td>0</td>\n",
       "      <td>0</td>\n",
       "      <td>0</td>\n",
       "      <td>13</td>\n",
       "      <td>0</td>\n",
       "      <td>0</td>\n",
       "      <td>2</td>\n",
       "      <td>0</td>\n",
       "    </tr>\n",
       "    <tr>\n",
       "      <th>000000</th>\n",
       "      <td>1</td>\n",
       "      <td>0</td>\n",
       "      <td>0</td>\n",
       "      <td>0</td>\n",
       "      <td>0</td>\n",
       "      <td>1</td>\n",
       "      <td>0</td>\n",
       "      <td>0</td>\n",
       "      <td>0</td>\n",
       "      <td>0</td>\n",
       "    </tr>\n",
       "    <tr>\n",
       "      <th>000030</th>\n",
       "      <td>1</td>\n",
       "      <td>0</td>\n",
       "      <td>0</td>\n",
       "      <td>0</td>\n",
       "      <td>0</td>\n",
       "      <td>1</td>\n",
       "      <td>0</td>\n",
       "      <td>0</td>\n",
       "      <td>0</td>\n",
       "      <td>0</td>\n",
       "    </tr>\n",
       "    <tr>\n",
       "      <th>000040</th>\n",
       "      <td>1</td>\n",
       "      <td>0</td>\n",
       "      <td>0</td>\n",
       "      <td>0</td>\n",
       "      <td>0</td>\n",
       "      <td>1</td>\n",
       "      <td>0</td>\n",
       "      <td>0</td>\n",
       "      <td>0</td>\n",
       "      <td>0</td>\n",
       "    </tr>\n",
       "    <tr>\n",
       "      <th>0001</th>\n",
       "      <td>10</td>\n",
       "      <td>0</td>\n",
       "      <td>0</td>\n",
       "      <td>0</td>\n",
       "      <td>0</td>\n",
       "      <td>10</td>\n",
       "      <td>0</td>\n",
       "      <td>0</td>\n",
       "      <td>0</td>\n",
       "      <td>0</td>\n",
       "    </tr>\n",
       "    <tr>\n",
       "      <th>0002</th>\n",
       "      <td>4</td>\n",
       "      <td>0</td>\n",
       "      <td>0</td>\n",
       "      <td>0</td>\n",
       "      <td>0</td>\n",
       "      <td>4</td>\n",
       "      <td>0</td>\n",
       "      <td>0</td>\n",
       "      <td>0</td>\n",
       "      <td>0</td>\n",
       "    </tr>\n",
       "    <tr>\n",
       "      <th>0003</th>\n",
       "      <td>5</td>\n",
       "      <td>0</td>\n",
       "      <td>0</td>\n",
       "      <td>0</td>\n",
       "      <td>0</td>\n",
       "      <td>5</td>\n",
       "      <td>0</td>\n",
       "      <td>0</td>\n",
       "      <td>0</td>\n",
       "      <td>0</td>\n",
       "    </tr>\n",
       "    <tr>\n",
       "      <th>0004</th>\n",
       "      <td>5</td>\n",
       "      <td>0</td>\n",
       "      <td>0</td>\n",
       "      <td>0</td>\n",
       "      <td>0</td>\n",
       "      <td>5</td>\n",
       "      <td>0</td>\n",
       "      <td>0</td>\n",
       "      <td>0</td>\n",
       "      <td>0</td>\n",
       "    </tr>\n",
       "  </tbody>\n",
       "</table>\n",
       "</div>"
      ],
      "text/plain": [
       "        all  js  python  html  php  cplus  java  cpound  typescript  ruby\n",
       "0       135   3      39     1    1     71    13       0           0     0\n",
       "00        3   0       0     0    0      1     0       0           0     0\n",
       "0000     15   0       0     0    0     13     0       0           2     0\n",
       "000000    1   0       0     0    0      1     0       0           0     0\n",
       "000030    1   0       0     0    0      1     0       0           0     0\n",
       "000040    1   0       0     0    0      1     0       0           0     0\n",
       "0001     10   0       0     0    0     10     0       0           0     0\n",
       "0002      4   0       0     0    0      4     0       0           0     0\n",
       "0003      5   0       0     0    0      5     0       0           0     0\n",
       "0004      5   0       0     0    0      5     0       0           0     0"
      ]
     },
     "execution_count": 17,
     "metadata": {},
     "output_type": "execute_result"
    }
   ],
   "source": [
    "word_counts = (pd.concat([all_freq,\n",
    "                          js_freq,\n",
    "                          python_freq,\n",
    "                          html_freq,\n",
    "                          php_freq,\n",
    "                          cplus_freq,\n",
    "                          java_freq,\n",
    "                          cpound_freq,\n",
    "                          type_script_freq,\n",
    "                          ruby_freq], axis=1, sort=True)\n",
    "                .set_axis(['all', 'js', 'python', 'html', 'php','cplus', 'java', 'cpound', 'typescript', 'ruby'], axis=1, inplace=False)\n",
    "                .fillna(0)\n",
    "                .apply(lambda s: s.astype(int)))\n",
    "\n",
    "word_counts.head(10)"
   ]
  },
  {
   "cell_type": "code",
   "execution_count": 18,
   "metadata": {},
   "outputs": [
    {
     "data": {
      "text/plain": [
       "Text(0.5, 1.0, 'Proportion of JavaScript vs Python for the 20 most common words')"
      ]
     },
     "execution_count": 18,
     "metadata": {},
     "output_type": "execute_result"
    },
    {
     "data": {
      "image/png": "[encoded data removed]",
      "text/plain": [
       "<Figure size 432x288 with 1 Axes>"
      ]
     },
     "metadata": {
      "needs_background": "light"
     },
     "output_type": "display_data"
    }
   ],
   "source": [
    " # figure out the percentage of spam vs ham\n",
    "(word_counts\n",
    " .assign(p_js=word_counts.js / word_counts['all'],\n",
    "         p_python=word_counts.python / word_counts['all'])\n",
    " .sort_values(by='all')\n",
    " [['p_js', 'p_python']]\n",
    " .tail(20)\n",
    " .sort_values('p_js')\n",
    " .plot.barh(stacked=True))\n",
    "\n",
    "plt.title('Proportion of JavaScript vs Python for the 20 most common words')"
   ]
  },
  {
   "cell_type": "code",
   "execution_count": 19,
   "metadata": {},
   "outputs": [
    {
     "data": {
      "text/plain": [
       "Text(0.5, 1.0, 'Proportion of Python vs HTML for the 20 most common words')"
      ]
     },
     "execution_count": 19,
     "metadata": {},
     "output_type": "execute_result"
    },
    {
     "data": {
      "image/png": "[encoded data removed]",
      "text/plain": [
       "<Figure size 432x288 with 1 Axes>"
      ]
     },
     "metadata": {
      "needs_background": "light"
     },
     "output_type": "display_data"
    }
   ],
   "source": [
    " # figure out the percentage of spam vs ham\n",
    "(word_counts\n",
    " .assign(p_python=word_counts.python / word_counts['all'],\n",
    "         p_html=word_counts.html / word_counts['all'])\n",
    " .sort_values(by='all')\n",
    " [['p_python', 'p_html']]\n",
    " .tail(20)\n",
    " .sort_values('p_python')\n",
    " .plot.barh(stacked=True))\n",
    "\n",
    "plt.title('Proportion of Python vs HTML for the 20 most common words')"
   ]
  },
  {
   "cell_type": "code",
   "execution_count": 20,
   "metadata": {},
   "outputs": [
    {
     "data": {
      "text/plain": [
       "Text(0.5, 1.0, 'Proportion of C++ vs Java for the 20 most common words')"
      ]
     },
     "execution_count": 20,
     "metadata": {},
     "output_type": "execute_result"
    },
    {
     "data": {
      "image/png": "[encoded data removed]",
      "text/plain": [
       "<Figure size 432x288 with 1 Axes>"
      ]
     },
     "metadata": {
      "needs_background": "light"
     },
     "output_type": "display_data"
    }
   ],
   "source": [
    " # figure out the percentage of spam vs ham\n",
    "(word_counts\n",
    " .assign(p_cplus=word_counts.cplus / word_counts['all'],\n",
    "         p_java=word_counts.java / word_counts['all'])\n",
    " .sort_values(by='all')\n",
    " [['p_cplus', 'p_java']]\n",
    " .tail(20)\n",
    " .sort_values('p_cplus')\n",
    " .plot.barh(stacked=True))\n",
    "\n",
    "plt.title('Proportion of C++ vs Java for the 20 most common words')"
   ]
  },
  {
   "cell_type": "code",
   "execution_count": 21,
   "metadata": {},
   "outputs": [
    {
     "data": {
      "text/plain": [
       "Text(0.5, 1.0, 'Proportion of PHP vs Java for the 20 most common words')"
      ]
     },
     "execution_count": 21,
     "metadata": {},
     "output_type": "execute_result"
    },
    {
     "data": {
      "image/png": "[encoded data removed]",
      "text/plain": [
       "<Figure size 432x288 with 1 Axes>"
      ]
     },
     "metadata": {
      "needs_background": "light"
     },
     "output_type": "display_data"
    }
   ],
   "source": [
    " # figure out the percentage of spam vs ham\n",
    "(word_counts\n",
    " .assign(p_php=word_counts.php / word_counts['all'],\n",
    "         p_java=word_counts.java / word_counts['all'])\n",
    " .sort_values(by='all')\n",
    " [['p_php', 'p_java']]\n",
    " .tail(20)\n",
    " .sort_values('p_php')\n",
    " .plot.barh(stacked=True))\n",
    "\n",
    "plt.title('Proportion of PHP vs Java for the 20 most common words')"
   ]
  },
  {
   "cell_type": "code",
   "execution_count": 22,
   "metadata": {},
   "outputs": [
    {
     "data": {
      "text/plain": [
       "Text(0.5, 1.0, 'Proportion of Python vs Java for the 20 most common words')"
      ]
     },
     "execution_count": 22,
     "metadata": {},
     "output_type": "execute_result"
    },
    {
     "data": {
      "image/png": "[encoded data removed]",
      "text/plain": [
       "<Figure size 432x288 with 1 Axes>"
      ]
     },
     "metadata": {
      "needs_background": "light"
     },
     "output_type": "display_data"
    }
   ],
   "source": [
    " # figure out the percentage of spam vs ham\n",
    "(word_counts\n",
    " .assign(p_python=word_counts.python / word_counts['all'],\n",
    "         p_java=word_counts.java / word_counts['all'])\n",
    " .sort_values(by='all')\n",
    " [['p_python', 'p_java']]\n",
    " .tail(20)\n",
    " .sort_values('p_python')\n",
    " .plot.barh(stacked=True))\n",
    "\n",
    "plt.title('Proportion of Python vs Java for the 20 most common words')"
   ]
  },
  {
   "cell_type": "code",
   "execution_count": 23,
   "metadata": {},
   "outputs": [],
   "source": [
    "# convert javascript to one string\n",
    "\n",
    "js = ' '.join([str(elem) for elem in js])"
   ]
  },
  {
   "cell_type": "code",
   "execution_count": 24,
   "metadata": {},
   "outputs": [],
   "source": [
    "# bigrams for JavaScript\n",
    "\n",
    "bigrams_js = nltk.ngrams(js.split(), 2)\n",
    "top_20_js_bigrams = pd.Series(bigrams_js).value_counts().head(20)"
   ]
  },
  {
   "cell_type": "code",
   "execution_count": 25,
   "metadata": {},
   "outputs": [
    {
     "data": {
      "image/png": "[encoded data removed]",
      "text/plain": [
       "<Figure size 720x432 with 1 Axes>"
      ]
     },
     "metadata": {
      "needs_background": "light"
     },
     "output_type": "display_data"
    }
   ],
   "source": [
    "top_20_js_bigrams.sort_values().plot.barh(color='pink', width=.9, figsize=(10, 6))\n",
    "\n",
    "plt.title('20 Most frequently occuring JavaScript bigrams')\n",
    "plt.ylabel('Bigram')\n",
    "plt.xlabel('# Occurances')\n",
    "\n",
    "# make the labels pretty\n",
    "ticks, _ = plt.yticks()\n",
    "labels = top_20_js_bigrams.reset_index()['index'].apply(lambda t: t[0] + ' ' + t[1])\n",
    "_ = plt.yticks(ticks, labels)"
   ]
  },
  {
   "cell_type": "code",
   "execution_count": null,
   "metadata": {},
   "outputs": [],
   "source": []
  },
  {
   "cell_type": "code",
   "execution_count": 26,
   "metadata": {},
   "outputs": [],
   "source": [
    "# convert python to one string\n",
    "\n",
    "python = ' '.join([str(elem) for elem in python])\n",
    "\n"
   ]
  },
  {
   "cell_type": "code",
   "execution_count": 27,
   "metadata": {},
   "outputs": [],
   "source": [
    "# bigrams for Python\n",
    "\n",
    "bigrams_python = nltk.ngrams(python.split(), 2)\n",
    "top_20_python_bigrams = pd.Series(bigrams_python).value_counts().head(20)"
   ]
  },
  {
   "cell_type": "code",
   "execution_count": 28,
   "metadata": {},
   "outputs": [
    {
     "data": {
      "image/png": "[encoded data removed]",
      "text/plain": [
       "<Figure size 720x432 with 1 Axes>"
      ]
     },
     "metadata": {
      "needs_background": "light"
     },
     "output_type": "display_data"
    }
   ],
   "source": [
    "top_20_python_bigrams.sort_values().plot.barh(color='pink', width=.9, figsize=(10, 6))\n",
    "\n",
    "plt.title('20 Most frequently occuring Python bigrams')\n",
    "plt.ylabel('Bigram')\n",
    "plt.xlabel('# Occurances')\n",
    "\n",
    "# make the labels pretty\n",
    "ticks, _ = plt.yticks()\n",
    "labels = top_20_python_bigrams.reset_index()['index'].apply(lambda t: t[0] + ' ' + t[1])\n",
    "_ = plt.yticks(ticks, labels)"
   ]
  },
  {
   "cell_type": "code",
   "execution_count": 29,
   "metadata": {},
   "outputs": [],
   "source": [
    "# convert html to one string\n",
    "\n",
    "html = ' '.join([str(elem) for elem in html])\n",
    "\n",
    "# bigrams for html\n",
    "\n",
    "bigrams_html = nltk.ngrams(html.split(), 2)\n",
    "top_20_html_bigrams = pd.Series(bigrams_html).value_counts().head(20)"
   ]
  },
  {
   "cell_type": "code",
   "execution_count": 30,
   "metadata": {},
   "outputs": [
    {
     "data": {
      "image/png": "[encoded data removed]",
      "text/plain": [
       "<Figure size 720x432 with 1 Axes>"
      ]
     },
     "metadata": {
      "needs_background": "light"
     },
     "output_type": "display_data"
    }
   ],
   "source": [
    "top_20_html_bigrams.sort_values().plot.barh(color='pink', width=.9, figsize=(10, 6))\n",
    "\n",
    "plt.title('20 Most frequently occuring HTML bigrams')\n",
    "plt.ylabel('Bigram')\n",
    "plt.xlabel('# Occurances')\n",
    "\n",
    "# make the labels pretty\n",
    "ticks, _ = plt.yticks()\n",
    "labels = top_20_html_bigrams.reset_index()['index'].apply(lambda t: t[0] + ' ' + t[1])\n",
    "_ = plt.yticks(ticks, labels)"
   ]
  },
  {
   "cell_type": "code",
   "execution_count": 31,
   "metadata": {},
   "outputs": [],
   "source": [
    "# convert cplus to one string\n",
    "\n",
    "cplus = ' '.join([str(elem) for elem in cplus])\n",
    "\n",
    "# bigrams for html\n",
    "\n",
    "bigrams_cplus = nltk.ngrams(cplus.split(), 2)\n",
    "top_20_cplus_bigrams = pd.Series(bigrams_cplus).value_counts().head(20)"
   ]
  },
  {
   "cell_type": "code",
   "execution_count": 32,
   "metadata": {},
   "outputs": [
    {
     "data": {
      "image/png": "[encoded data removed]",
      "text/plain": [
       "<Figure size 720x432 with 1 Axes>"
      ]
     },
     "metadata": {
      "needs_background": "light"
     },
     "output_type": "display_data"
    }
   ],
   "source": [
    "top_20_cplus_bigrams.sort_values().plot.barh(color='pink', width=.9, figsize=(10, 6))\n",
    "\n",
    "plt.title('20 Most frequently occuring C++ bigrams')\n",
    "plt.ylabel('Bigram')\n",
    "plt.xlabel('# Occurances')\n",
    "\n",
    "# make the labels pretty\n",
    "ticks, _ = plt.yticks()\n",
    "labels = top_20_cplus_bigrams.reset_index()['index'].apply(lambda t: t[0] + ' ' + t[1])\n",
    "_ = plt.yticks(ticks, labels)"
   ]
  },
  {
   "cell_type": "code",
   "execution_count": null,
   "metadata": {},
   "outputs": [],
   "source": []
  }
 ],
 "metadata": {
  "kernelspec": {
   "display_name": "Python 3",
   "language": "python",
   "name": "python3"
  },
  "language_info": {
   "codemirror_mode": {
    "name": "ipython",
    "version": 3
   },
   "file_extension": ".py",
   "mimetype": "text/x-python",
   "name": "python",
   "nbconvert_exporter": "python",
   "pygments_lexer": "ipython3",
   "version": "3.8.5"
  }
 },
 "nbformat": 4,
 "nbformat_minor": 4
}
