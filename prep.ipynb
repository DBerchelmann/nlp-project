{
 "cells": [
  {
   "cell_type": "code",
   "execution_count": 1,
   "metadata": {},
   "outputs": [],
   "source": [
    "#prep data"
   ]
  },
  {
   "cell_type": "code",
   "execution_count": 2,
   "metadata": {},
   "outputs": [],
   "source": [
    "import os\n",
    "import json\n",
    "from typing import Dict, List, Optional, Union, cast\n",
    "import requests\n",
    "import pandas as pd\n",
    "import numpy as np\n",
    "import bs4\n",
    "import time\n",
    "\n",
    "from sklearn.feature_extraction.text import TfidfVectorizer\n",
    "import nltk\n",
    "import unicodedata\n",
    "import re\n",
    "\n",
    "import matplotlib.pyplot as plt\n",
    "from sklearn.model_selection import train_test_split\n",
    "from sklearn.linear_model import LogisticRegression\n",
    "from sklearn.neighbors import KNeighborsClassifier\n",
    "from sklearn.ensemble import RandomForestClassifier\n",
    "from sklearn.tree import DecisionTreeClassifier\n",
    "from sklearn.metrics import classification_report, accuracy_score\n",
    "\n",
    "from env import github_token, github_username\n",
    "\n",
    "import acquire"
   ]
  },
  {
   "cell_type": "code",
   "execution_count": 3,
   "metadata": {},
   "outputs": [],
   "source": [
    "df = pd.read_csv (r'f1_readmes.csv')"
   ]
  },
  {
   "cell_type": "code",
   "execution_count": 4,
   "metadata": {},
   "outputs": [
    {
     "data": {
      "text/html": [
       "<div>\n",
       "<style scoped>\n",
       "    .dataframe tbody tr th:only-of-type {\n",
       "        vertical-align: middle;\n",
       "    }\n",
       "\n",
       "    .dataframe tbody tr th {\n",
       "        vertical-align: top;\n",
       "    }\n",
       "\n",
       "    .dataframe thead th {\n",
       "        text-align: right;\n",
       "    }\n",
       "</style>\n",
       "<table border=\"1\" class=\"dataframe\">\n",
       "  <thead>\n",
       "    <tr style=\"text-align: right;\">\n",
       "      <th></th>\n",
       "      <th>repo</th>\n",
       "      <th>language</th>\n",
       "      <th>readme_contents</th>\n",
       "    </tr>\n",
       "  </thead>\n",
       "  <tbody>\n",
       "    <tr>\n",
       "      <th>0</th>\n",
       "      <td>ppatierno/formula1-telemetry-kafka</td>\n",
       "      <td>Java</td>\n",
       "      <td># Formula 1 - Telemetry with Apache Kafka\\n\\nT...</td>\n",
       "    </tr>\n",
       "    <tr>\n",
       "      <th>1</th>\n",
       "      <td>NVIDIA-AI-IOT/Formula1Epoch</td>\n",
       "      <td>Makefile</td>\n",
       "      <td>[![logo.png](https://s2.postimg.org/fwiu26nmh/...</td>\n",
       "    </tr>\n",
       "    <tr>\n",
       "      <th>2</th>\n",
       "      <td>jcnewell/ergast-f1-api</td>\n",
       "      <td>PHP</td>\n",
       "      <td># Ergast nodeJS API\\nIn this period we are wor...</td>\n",
       "    </tr>\n",
       "    <tr>\n",
       "      <th>3</th>\n",
       "      <td>SOYJUN/FTP-implement-based-on-UDP</td>\n",
       "      <td>C</td>\n",
       "      <td>Copyright (c) 2014 Jun Zeng. &lt;jun.zeng@stonybr...</td>\n",
       "    </tr>\n",
       "    <tr>\n",
       "      <th>4</th>\n",
       "      <td>daz/live-f1</td>\n",
       "      <td>C</td>\n",
       "      <td>live-f1 is a native Linux client for viewing t...</td>\n",
       "    </tr>\n",
       "  </tbody>\n",
       "</table>\n",
       "</div>"
      ],
      "text/plain": [
       "                                 repo  language  \\\n",
       "0  ppatierno/formula1-telemetry-kafka      Java   \n",
       "1         NVIDIA-AI-IOT/Formula1Epoch  Makefile   \n",
       "2              jcnewell/ergast-f1-api       PHP   \n",
       "3   SOYJUN/FTP-implement-based-on-UDP         C   \n",
       "4                         daz/live-f1         C   \n",
       "\n",
       "                                     readme_contents  \n",
       "0  # Formula 1 - Telemetry with Apache Kafka\\n\\nT...  \n",
       "1  [![logo.png](https://s2.postimg.org/fwiu26nmh/...  \n",
       "2  # Ergast nodeJS API\\nIn this period we are wor...  \n",
       "3  Copyright (c) 2014 Jun Zeng. <jun.zeng@stonybr...  \n",
       "4  live-f1 is a native Linux client for viewing t...  "
      ]
     },
     "execution_count": 4,
     "metadata": {},
     "output_type": "execute_result"
    }
   ],
   "source": [
    "df.head()"
   ]
  },
  {
   "cell_type": "code",
   "execution_count": 5,
   "metadata": {},
   "outputs": [],
   "source": [
    "ADDITIONAL_STOPWORDS = ['r', 'u', '2', 'ltgt', '\\n', 'ha']\n",
    "\n",
    "def clean(readme_contents):\n",
    "    \n",
    "    'A simple function to cleanup text data'\n",
    "    \n",
    "    wnl = nltk.stem.WordNetLemmatizer()\n",
    "    stopwords = nltk.corpus.stopwords.words('english') + ADDITIONAL_STOPWORDS\n",
    "    readme_contents = (unicodedata.normalize('NFKD', readme_contents)\n",
    "             .encode('ascii', 'ignore')\n",
    "             .decode('utf-8', 'ignore')\n",
    "             .lower())\n",
    "    words = re.sub(r'[^\\w\\s]', '', readme_contents).split()\n",
    "    return \" \".join([wnl.lemmatize(word) for word in words if word not in stopwords])"
   ]
  },
  {
   "cell_type": "code",
   "execution_count": 6,
   "metadata": {},
   "outputs": [],
   "source": [
    "null_readme = df[df['readme_contents'].isnull()].index"
   ]
  },
  {
   "cell_type": "code",
   "execution_count": 7,
   "metadata": {},
   "outputs": [
    {
     "data": {
      "text/plain": [
       "pandas.core.indexes.numeric.Int64Index"
      ]
     },
     "execution_count": 7,
     "metadata": {},
     "output_type": "execute_result"
    }
   ],
   "source": [
    "type(null_readme)"
   ]
  },
  {
   "cell_type": "code",
   "execution_count": 8,
   "metadata": {},
   "outputs": [],
   "source": [
    "df.drop(null_readme , inplace=True)"
   ]
  },
  {
   "cell_type": "code",
   "execution_count": 9,
   "metadata": {},
   "outputs": [
    {
     "name": "stdout",
     "output_type": "stream",
     "text": [
      "<class 'pandas.core.frame.DataFrame'>\n",
      "Int64Index: 268 entries, 0 to 325\n",
      "Data columns (total 3 columns):\n",
      " #   Column           Non-Null Count  Dtype \n",
      "---  ------           --------------  ----- \n",
      " 0   repo             268 non-null    object\n",
      " 1   language         241 non-null    object\n",
      " 2   readme_contents  268 non-null    object\n",
      "dtypes: object(3)\n",
      "memory usage: 8.4+ KB\n"
     ]
    }
   ],
   "source": [
    "df.info()"
   ]
  },
  {
   "cell_type": "code",
   "execution_count": 10,
   "metadata": {},
   "outputs": [
    {
     "data": {
      "text/html": [
       "<div>\n",
       "<style scoped>\n",
       "    .dataframe tbody tr th:only-of-type {\n",
       "        vertical-align: middle;\n",
       "    }\n",
       "\n",
       "    .dataframe tbody tr th {\n",
       "        vertical-align: top;\n",
       "    }\n",
       "\n",
       "    .dataframe thead th {\n",
       "        text-align: right;\n",
       "    }\n",
       "</style>\n",
       "<table border=\"1\" class=\"dataframe\">\n",
       "  <thead>\n",
       "    <tr style=\"text-align: right;\">\n",
       "      <th></th>\n",
       "      <th>repo</th>\n",
       "      <th>language</th>\n",
       "      <th>readme_contents</th>\n",
       "    </tr>\n",
       "  </thead>\n",
       "  <tbody>\n",
       "    <tr>\n",
       "      <th>0</th>\n",
       "      <td>ppatierno/formula1-telemetry-kafka</td>\n",
       "      <td>Java</td>\n",
       "      <td>formula 1 telemetry apache kafka project aim u...</td>\n",
       "    </tr>\n",
       "    <tr>\n",
       "      <th>1</th>\n",
       "      <td>NVIDIA-AI-IOT/Formula1Epoch</td>\n",
       "      <td>Makefile</td>\n",
       "      <td>logopnghttpss2postimgorgfwiu26nmhcopy_of_elect...</td>\n",
       "    </tr>\n",
       "    <tr>\n",
       "      <th>2</th>\n",
       "      <td>jcnewell/ergast-f1-api</td>\n",
       "      <td>PHP</td>\n",
       "      <td>ergast nodejs api period working improve serve...</td>\n",
       "    </tr>\n",
       "    <tr>\n",
       "      <th>3</th>\n",
       "      <td>SOYJUN/FTP-implement-based-on-UDP</td>\n",
       "      <td>C</td>\n",
       "      <td>copyright c 2014 jun zeng junzengstonybrookedu...</td>\n",
       "    </tr>\n",
       "    <tr>\n",
       "      <th>4</th>\n",
       "      <td>daz/live-f1</td>\n",
       "      <td>C</td>\n",
       "      <td>livef1 native linux client viewing official fo...</td>\n",
       "    </tr>\n",
       "  </tbody>\n",
       "</table>\n",
       "</div>"
      ],
      "text/plain": [
       "                                 repo  language  \\\n",
       "0  ppatierno/formula1-telemetry-kafka      Java   \n",
       "1         NVIDIA-AI-IOT/Formula1Epoch  Makefile   \n",
       "2              jcnewell/ergast-f1-api       PHP   \n",
       "3   SOYJUN/FTP-implement-based-on-UDP         C   \n",
       "4                         daz/live-f1         C   \n",
       "\n",
       "                                     readme_contents  \n",
       "0  formula 1 telemetry apache kafka project aim u...  \n",
       "1  logopnghttpss2postimgorgfwiu26nmhcopy_of_elect...  \n",
       "2  ergast nodejs api period working improve serve...  \n",
       "3  copyright c 2014 jun zeng junzengstonybrookedu...  \n",
       "4  livef1 native linux client viewing official fo...  "
      ]
     },
     "execution_count": 10,
     "metadata": {},
     "output_type": "execute_result"
    }
   ],
   "source": [
    "df.readme_contents = df.readme_contents.apply(clean)\n",
    "\n",
    "df.head()"
   ]
  },
  {
   "cell_type": "code",
   "execution_count": 11,
   "metadata": {},
   "outputs": [],
   "source": [
    "from textblob import TextBlob"
   ]
  },
  {
   "cell_type": "code",
   "execution_count": 18,
   "metadata": {},
   "outputs": [],
   "source": [
    "text = TextBlob(df.readme_contents[2])"
   ]
  },
  {
   "cell_type": "code",
   "execution_count": 21,
   "metadata": {},
   "outputs": [
    {
     "data": {
      "text/plain": [
       "'en'"
      ]
     },
     "execution_count": 21,
     "metadata": {},
     "output_type": "execute_result"
    }
   ],
   "source": [
    "text.detect_language()"
   ]
  },
  {
   "cell_type": "code",
   "execution_count": 22,
   "metadata": {},
   "outputs": [
    {
     "data": {
      "text/plain": [
       "'copyright c 2014 jun zeng junzengstonybrookedu zengjun0916gmailcom copyright c 2014 yigong wang yigwangcsstonybrookedu right reserved based steven code library unix network programming volume 1 third edition unrestricted right granted instructor student cse530 class fall 2014 stony brook university'"
      ]
     },
     "execution_count": 22,
     "metadata": {},
     "output_type": "execute_result"
    }
   ],
   "source": [
    "df.readme_contents[3]"
   ]
  },
  {
   "cell_type": "code",
   "execution_count": 25,
   "metadata": {},
   "outputs": [],
   "source": [
    "df['written_language'] = df['readme_contents'].apply(lambda content: TextBlob(content).detect_language())"
   ]
  },
  {
   "cell_type": "code",
   "execution_count": 26,
   "metadata": {},
   "outputs": [
    {
     "data": {
      "text/html": [
       "<div>\n",
       "<style scoped>\n",
       "    .dataframe tbody tr th:only-of-type {\n",
       "        vertical-align: middle;\n",
       "    }\n",
       "\n",
       "    .dataframe tbody tr th {\n",
       "        vertical-align: top;\n",
       "    }\n",
       "\n",
       "    .dataframe thead th {\n",
       "        text-align: right;\n",
       "    }\n",
       "</style>\n",
       "<table border=\"1\" class=\"dataframe\">\n",
       "  <thead>\n",
       "    <tr style=\"text-align: right;\">\n",
       "      <th></th>\n",
       "      <th>repo</th>\n",
       "      <th>language</th>\n",
       "      <th>readme_contents</th>\n",
       "      <th>written_language</th>\n",
       "    </tr>\n",
       "  </thead>\n",
       "  <tbody>\n",
       "    <tr>\n",
       "      <th>0</th>\n",
       "      <td>ppatierno/formula1-telemetry-kafka</td>\n",
       "      <td>Java</td>\n",
       "      <td>formula 1 telemetry apache kafka project aim u...</td>\n",
       "      <td>en</td>\n",
       "    </tr>\n",
       "    <tr>\n",
       "      <th>1</th>\n",
       "      <td>NVIDIA-AI-IOT/Formula1Epoch</td>\n",
       "      <td>Makefile</td>\n",
       "      <td>logopnghttpss2postimgorgfwiu26nmhcopy_of_elect...</td>\n",
       "      <td>en</td>\n",
       "    </tr>\n",
       "    <tr>\n",
       "      <th>2</th>\n",
       "      <td>jcnewell/ergast-f1-api</td>\n",
       "      <td>PHP</td>\n",
       "      <td>ergast nodejs api period working improve serve...</td>\n",
       "      <td>en</td>\n",
       "    </tr>\n",
       "    <tr>\n",
       "      <th>3</th>\n",
       "      <td>SOYJUN/FTP-implement-based-on-UDP</td>\n",
       "      <td>C</td>\n",
       "      <td>copyright c 2014 jun zeng junzengstonybrookedu...</td>\n",
       "      <td>en</td>\n",
       "    </tr>\n",
       "    <tr>\n",
       "      <th>4</th>\n",
       "      <td>daz/live-f1</td>\n",
       "      <td>C</td>\n",
       "      <td>livef1 native linux client viewing official fo...</td>\n",
       "      <td>en</td>\n",
       "    </tr>\n",
       "  </tbody>\n",
       "</table>\n",
       "</div>"
      ],
      "text/plain": [
       "                                 repo  language  \\\n",
       "0  ppatierno/formula1-telemetry-kafka      Java   \n",
       "1         NVIDIA-AI-IOT/Formula1Epoch  Makefile   \n",
       "2              jcnewell/ergast-f1-api       PHP   \n",
       "3   SOYJUN/FTP-implement-based-on-UDP         C   \n",
       "4                         daz/live-f1         C   \n",
       "\n",
       "                                     readme_contents written_language  \n",
       "0  formula 1 telemetry apache kafka project aim u...               en  \n",
       "1  logopnghttpss2postimgorgfwiu26nmhcopy_of_elect...               en  \n",
       "2  ergast nodejs api period working improve serve...               en  \n",
       "3  copyright c 2014 jun zeng junzengstonybrookedu...               en  \n",
       "4  livef1 native linux client viewing official fo...               en  "
      ]
     },
     "execution_count": 26,
     "metadata": {},
     "output_type": "execute_result"
    }
   ],
   "source": [
    "df.head()"
   ]
  },
  {
   "cell_type": "code",
   "execution_count": 27,
   "metadata": {},
   "outputs": [
    {
     "data": {
      "text/plain": [
       "en    225\n",
       "pt     12\n",
       "es      8\n",
       "fr      6\n",
       "gl      3\n",
       "de      3\n",
       "da      2\n",
       "ro      2\n",
       "vi      1\n",
       "nl      1\n",
       "pl      1\n",
       "id      1\n",
       "mg      1\n",
       "rw      1\n",
       "sl      1\n",
       "Name: written_language, dtype: int64"
      ]
     },
     "execution_count": 27,
     "metadata": {},
     "output_type": "execute_result"
    }
   ],
   "source": [
    "df.written_language.value_counts()"
   ]
  },
  {
   "cell_type": "markdown",
   "metadata": {},
   "source": [
    "### takeaways\n",
    "\n",
    "- we have several readmes that are not in english and this might need to be considered when it comes to modeling\n",
    "- 43 entries could be translated into english using googletrans"
   ]
  },
  {
   "cell_type": "code",
   "execution_count": null,
   "metadata": {},
   "outputs": [],
   "source": []
  }
 ],
 "metadata": {
  "kernelspec": {
   "display_name": "Python 3",
   "language": "python",
   "name": "python3"
  },
  "language_info": {
   "codemirror_mode": {
    "name": "ipython",
    "version": 3
   },
   "file_extension": ".py",
   "mimetype": "text/x-python",
   "name": "python",
   "nbconvert_exporter": "python",
   "pygments_lexer": "ipython3",
   "version": "3.8.5"
  }
 },
 "nbformat": 4,
 "nbformat_minor": 4
}
