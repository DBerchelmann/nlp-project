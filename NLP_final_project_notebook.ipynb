{
 "cells": [
  {
   "cell_type": "markdown",
   "metadata": {},
   "source": [
    "\n",
    "<div align=\"center\"><img width=\"275\" height=\"50\" src=\"http://www.essentiallysports.com/wp-content/uploads/f1-logo.jpg\"/> </div> \n",
    "\n",
    "<div align=\"center\"> <h1>NLP Project</h1> \n",
    "  <h6> by David Berchelmann -- May 11, 2021 </h6> </div>\n",
    "  \n",
    "  ------------------------------------------------"
   ]
  },
  {
   "cell_type": "markdown",
   "metadata": {},
   "source": [
    "<div align=\"center\"><img width=\"800\" height=\"50\" src=\"https://communityimpact.com/wp-content/uploads/2016/10/cropCircuitoftheAmericas_USGP_20151023_Rizzo_89640-2.jpg\" /> </div>\n",
    "\n",
    "-----"
   ]
  },
  {
   "cell_type": "markdown",
   "metadata": {},
   "source": [
    "-------\n",
    "\n",
    "<h1> Welcome! </h1>\n",
    "\n",
    "The following jupyter notebook will take you through my NLP project focusing on predicting the programming languages that make up git hub repositories that focus on Formula 1.  \n",
    "\n",
    "All of the files and notebooks for this project can be accessed via the github repostiory located at --> https://github.com/DBerchelmann/nlp-project\n",
    "\n",
    "\n",
    "\n",
    "----"
   ]
  },
  {
   "cell_type": "markdown",
   "metadata": {},
   "source": [
    "<h1> Executive Summary </h1>\n",
    "\n",
    "------\n",
    "\n",
    "<h4><b>The Problem</b></h4>\n",
    "\n",
    "- Can a repository's programming language be determined by a model built off of natural language processing?\n",
    "\n",
    "<h4><b>The Goal</b></h4>\n",
    "\n",
    "- Create a predictive model using natural language processing that can determine the dominant programming language used in github repositories based on the text of the README files.\n",
    "\n",
    "<h4><b>The Process</b></h4>\n",
    "\n",
    "  * Acquire the Data\n",
    "  * Prepare \n",
    "  * Explore \n",
    "  * Model\n",
    "  * Findings/Recommendations\n",
    "  \n",
    "<h4><b>The Findings</b></h4>\n",
    "\n",
    "\n",
    "    \n",
    "    \n",
    " \n",
    "\n",
    "\n",
    "-------\n"
   ]
  },
  {
   "cell_type": "markdown",
   "metadata": {},
   "source": [
    "\n",
    "<h3><u>Environment Setup</u></h3>\n",
    "\n",
    "------"
   ]
  },
  {
   "cell_type": "code",
   "execution_count": 1,
   "metadata": {
    "jupyter": {
     "source_hidden": true
    }
   },
   "outputs": [],
   "source": [
    "import os\n",
    "import json\n",
    "from typing import Dict, List, Optional, Union, cast\n",
    "import requests\n",
    "import pandas as pd\n",
    "import numpy as np\n",
    "import bs4\n",
    "import time\n",
    "\n",
    "from sklearn.feature_extraction.text import TfidfVectorizer\n",
    "import nltk\n",
    "import unicodedata\n",
    "import re\n",
    "\n",
    "import matplotlib.pyplot as plt\n",
    "from sklearn.model_selection import train_test_split\n",
    "from sklearn.linear_model import LogisticRegression\n",
    "from sklearn.neighbors import KNeighborsClassifier\n",
    "from sklearn.ensemble import RandomForestClassifier\n",
    "from sklearn.tree import DecisionTreeClassifier\n",
    "from sklearn.metrics import classification_report, accuracy_score\n",
    "\n",
    "from env import github_token, github_username\n",
    "\n",
    "import acquire, wrangle, explore\n",
    "from wrangle import clean_nlp"
   ]
  },
  {
   "cell_type": "markdown",
   "metadata": {},
   "source": [
    "---\n",
    "<h3><u>Acquire the Data</u></h3>\n",
    "\n",
    "----"
   ]
  },
  {
   "cell_type": "markdown",
   "metadata": {},
   "source": [
    "The acquire section took several steps before it could be read into the notebook as a csv.\n",
    "\n",
    "- Use a function to search a pre-determined amount of pages based on a search for github repository URLs that had the highest star rankings which covered Formula 1.\n",
    "- Next,those URLs were inputted into another function which then used web scraping to bring back the repository name, the dominant language it was written in, and the text contents of the READEME file.\n",
    "- Finally, that list of dictionaries was converted into a pandas data frame which was then written into a CSV.\n",
    "- After being written into a CSV, I was able to read it back into this notebook as a CSV which will allow for much faster preparation, exploring, and modeling."
   ]
  },
  {
   "cell_type": "code",
   "execution_count": 2,
   "metadata": {},
   "outputs": [],
   "source": [
    "df = wrangle.acquire_csv()"
   ]
  },
  {
   "cell_type": "code",
   "execution_count": 3,
   "metadata": {},
   "outputs": [
    {
     "data": {
      "text/plain": [
       "(268, 4)"
      ]
     },
     "execution_count": 3,
     "metadata": {},
     "output_type": "execute_result"
    }
   ],
   "source": [
    "df.shape"
   ]
  },
  {
   "cell_type": "code",
   "execution_count": 4,
   "metadata": {},
   "outputs": [
    {
     "name": "stdout",
     "output_type": "stream",
     "text": [
      "<class 'pandas.core.frame.DataFrame'>\n",
      "RangeIndex: 268 entries, 0 to 267\n",
      "Data columns (total 4 columns):\n",
      " #   Column            Non-Null Count  Dtype \n",
      "---  ------            --------------  ----- \n",
      " 0   repo              268 non-null    object\n",
      " 1   language          241 non-null    object\n",
      " 2   readme_contents   268 non-null    object\n",
      " 3   written_language  268 non-null    object\n",
      "dtypes: object(4)\n",
      "memory usage: 8.5+ KB\n"
     ]
    }
   ],
   "source": [
    "df.info()"
   ]
  },
  {
   "cell_type": "markdown",
   "metadata": {},
   "source": [
    "<h3>Takeaways</h3>\n",
    "\n",
    "- We have some nulls in README that will need to be investigated. NLP needs text to read to be able to predict\n"
   ]
  },
  {
   "cell_type": "markdown",
   "metadata": {},
   "source": [
    "---\n",
    "<h3><u>Prepare the Data</u></h3>\n",
    "\n",
    "----"
   ]
  },
  {
   "cell_type": "markdown",
   "metadata": {},
   "source": [
    "<h4>Initial Findings</h4>\n",
    "\n",
    "- I saw that while a majority of the readme files were inEnglish, there were a number of them in different languages. \n",
    "- I utilized a language detection import called TextBlob that allowed me to decipher those languages.\n",
    "    -With that, I utilized value counts to only keep repositories that had a language in 6 or more total repositories. \n",
    "     - this data set contains repositories with English, Portuguese, Spanish, & French stop words\n",
    "      - by doing this, our models will be able give a more equal weight across the board by taking out unnecessary words in all the included languages\n",
    "- All nulls were also dropped\n",
    "- Finally, any computer language that wasn't included in 7 more libraries was dropped as well\n"
   ]
  },
  {
   "cell_type": "code",
   "execution_count": 5,
   "metadata": {},
   "outputs": [],
   "source": [
    "df = wrangle.first_clean()"
   ]
  },
  {
   "cell_type": "code",
   "execution_count": 6,
   "metadata": {},
   "outputs": [
    {
     "data": {
      "text/html": [
       "<div>\n",
       "<style scoped>\n",
       "    .dataframe tbody tr th:only-of-type {\n",
       "        vertical-align: middle;\n",
       "    }\n",
       "\n",
       "    .dataframe tbody tr th {\n",
       "        vertical-align: top;\n",
       "    }\n",
       "\n",
       "    .dataframe thead th {\n",
       "        text-align: right;\n",
       "    }\n",
       "</style>\n",
       "<table border=\"1\" class=\"dataframe\">\n",
       "  <thead>\n",
       "    <tr style=\"text-align: right;\">\n",
       "      <th></th>\n",
       "      <th>repo</th>\n",
       "      <th>language</th>\n",
       "      <th>readme_contents</th>\n",
       "      <th>written_language</th>\n",
       "    </tr>\n",
       "  </thead>\n",
       "  <tbody>\n",
       "    <tr>\n",
       "      <th>0</th>\n",
       "      <td>ppatierno/formula1-telemetry-kafka</td>\n",
       "      <td>Java</td>\n",
       "      <td># Formula 1 - Telemetry with Apache Kafka\\n\\nT...</td>\n",
       "      <td>en</td>\n",
       "    </tr>\n",
       "    <tr>\n",
       "      <th>2</th>\n",
       "      <td>jcnewell/ergast-f1-api</td>\n",
       "      <td>PHP</td>\n",
       "      <td># Ergast nodeJS API\\nIn this period we are wor...</td>\n",
       "      <td>en</td>\n",
       "    </tr>\n",
       "    <tr>\n",
       "      <th>5</th>\n",
       "      <td>izenecloud/sf1r-lite</td>\n",
       "      <td>C++</td>\n",
       "      <td>SF1R-Lite(Search Formula-1 Lite Engine)\\n=====...</td>\n",
       "      <td>en</td>\n",
       "    </tr>\n",
       "    <tr>\n",
       "      <th>7</th>\n",
       "      <td>jonybur/f1-telemetry-client</td>\n",
       "      <td>TypeScript</td>\n",
       "      <td># F1 Telemetry Client\\n\\n&lt;img src=\"https://img...</td>\n",
       "      <td>en</td>\n",
       "    </tr>\n",
       "    <tr>\n",
       "      <th>8</th>\n",
       "      <td>davidor/formula1-lap-charts</td>\n",
       "      <td>JavaScript</td>\n",
       "      <td># Formula 1 Lap Charts\\n\\nInteractive lap char...</td>\n",
       "      <td>en</td>\n",
       "    </tr>\n",
       "  </tbody>\n",
       "</table>\n",
       "</div>"
      ],
      "text/plain": [
       "                                 repo    language  \\\n",
       "0  ppatierno/formula1-telemetry-kafka        Java   \n",
       "2              jcnewell/ergast-f1-api         PHP   \n",
       "5                izenecloud/sf1r-lite         C++   \n",
       "7         jonybur/f1-telemetry-client  TypeScript   \n",
       "8         davidor/formula1-lap-charts  JavaScript   \n",
       "\n",
       "                                     readme_contents written_language  \n",
       "0  # Formula 1 - Telemetry with Apache Kafka\\n\\nT...               en  \n",
       "2  # Ergast nodeJS API\\nIn this period we are wor...               en  \n",
       "5  SF1R-Lite(Search Formula-1 Lite Engine)\\n=====...               en  \n",
       "7  # F1 Telemetry Client\\n\\n<img src=\"https://img...               en  \n",
       "8  # Formula 1 Lap Charts\\n\\nInteractive lap char...               en  "
      ]
     },
     "execution_count": 6,
     "metadata": {},
     "output_type": "execute_result"
    }
   ],
   "source": [
    "df.head()"
   ]
  },
  {
   "cell_type": "markdown",
   "metadata": {},
   "source": [
    "---\n",
    "<h3><u>Explore the Data</u></h3>\n",
    "\n",
    "----"
   ]
  },
  {
   "cell_type": "code",
   "execution_count": 7,
   "metadata": {},
   "outputs": [
    {
     "data": {
      "text/html": [
       "<div>\n",
       "<style scoped>\n",
       "    .dataframe tbody tr th:only-of-type {\n",
       "        vertical-align: middle;\n",
       "    }\n",
       "\n",
       "    .dataframe tbody tr th {\n",
       "        vertical-align: top;\n",
       "    }\n",
       "\n",
       "    .dataframe thead th {\n",
       "        text-align: right;\n",
       "    }\n",
       "</style>\n",
       "<table border=\"1\" class=\"dataframe\">\n",
       "  <thead>\n",
       "    <tr style=\"text-align: right;\">\n",
       "      <th></th>\n",
       "      <th>n</th>\n",
       "      <th>percent</th>\n",
       "    </tr>\n",
       "  </thead>\n",
       "  <tbody>\n",
       "    <tr>\n",
       "      <th>JavaScript</th>\n",
       "      <td>50</td>\n",
       "      <td>0.268817</td>\n",
       "    </tr>\n",
       "    <tr>\n",
       "      <th>Python</th>\n",
       "      <td>27</td>\n",
       "      <td>0.145161</td>\n",
       "    </tr>\n",
       "    <tr>\n",
       "      <th>HTML</th>\n",
       "      <td>20</td>\n",
       "      <td>0.107527</td>\n",
       "    </tr>\n",
       "    <tr>\n",
       "      <th>C++</th>\n",
       "      <td>14</td>\n",
       "      <td>0.075269</td>\n",
       "    </tr>\n",
       "    <tr>\n",
       "      <th>Java</th>\n",
       "      <td>13</td>\n",
       "      <td>0.069892</td>\n",
       "    </tr>\n",
       "    <tr>\n",
       "      <th>PHP</th>\n",
       "      <td>13</td>\n",
       "      <td>0.069892</td>\n",
       "    </tr>\n",
       "    <tr>\n",
       "      <th>TypeScript</th>\n",
       "      <td>12</td>\n",
       "      <td>0.064516</td>\n",
       "    </tr>\n",
       "    <tr>\n",
       "      <th>Ruby</th>\n",
       "      <td>11</td>\n",
       "      <td>0.059140</td>\n",
       "    </tr>\n",
       "    <tr>\n",
       "      <th>C#</th>\n",
       "      <td>10</td>\n",
       "      <td>0.053763</td>\n",
       "    </tr>\n",
       "    <tr>\n",
       "      <th>Jupyter Notebook</th>\n",
       "      <td>9</td>\n",
       "      <td>0.048387</td>\n",
       "    </tr>\n",
       "    <tr>\n",
       "      <th>R</th>\n",
       "      <td>7</td>\n",
       "      <td>0.037634</td>\n",
       "    </tr>\n",
       "  </tbody>\n",
       "</table>\n",
       "</div>"
      ],
      "text/plain": [
       "                   n   percent\n",
       "JavaScript        50  0.268817\n",
       "Python            27  0.145161\n",
       "HTML              20  0.107527\n",
       "C++               14  0.075269\n",
       "Java              13  0.069892\n",
       "PHP               13  0.069892\n",
       "TypeScript        12  0.064516\n",
       "Ruby              11  0.059140\n",
       "C#                10  0.053763\n",
       "Jupyter Notebook   9  0.048387\n",
       "R                  7  0.037634"
      ]
     },
     "execution_count": 7,
     "metadata": {},
     "output_type": "execute_result"
    }
   ],
   "source": [
    "explore.show_counts_and_ratios(df, \"language\")"
   ]
  },
  {
   "cell_type": "markdown",
   "metadata": {},
   "source": [
    "<h4>Takeaways</h4>\n",
    "\n",
    "- A majority of these repositories are written in Javascript, followed by Python and then HTML. \n",
    "- I believe our model will be able to predict these first three fairly accurately since it will have the most data"
   ]
  },
  {
   "cell_type": "markdown",
   "metadata": {},
   "source": [
    "-------\n",
    "\n",
    "<h4>Now Let's Really Explore</h4>\n",
    "\n",
    "  - we will use the clean_nlp function to clean each language separately so we can explore more in-depth\n",
    "------"
   ]
  },
  {
   "cell_type": "code",
   "execution_count": 9,
   "metadata": {
    "jupyter": {
     "source_hidden": true
    }
   },
   "outputs": [],
   "source": [
    "# seperate the data into seperate pieces \n",
    "\n",
    "js = clean_nlp(' '.join(df[df.language == 'JavaScript'].readme_contents))\n",
    "\n",
    "python = clean_nlp(' '.join(df[df.language == 'Python'].readme_contents))\n",
    "\n",
    "html = clean_nlp(' '.join(df[df.language == 'HTML'].readme_contents))\n",
    "\n",
    "php = clean_nlp(' '.join(df[df.language == 'PHP'].readme_contents))\n",
    "\n",
    "cplus = clean_nlp(' '.join(df[df.language == 'C++'].readme_contents))\n",
    "\n",
    "java = clean_nlp(' '.join(df[df.language == 'Java'].readme_contents))\n",
    "\n",
    "csharp = clean_nlp(' '.join(df[df.language == 'C#'].readme_contents))\n",
    "\n",
    "type_script = clean_nlp(' '.join(df[df.language == 'TypeScript'].readme_contents))\n",
    "\n",
    "ruby = clean_nlp(' '.join(df[df.language == 'Ruby'].readme_contents))\n",
    "\n",
    "r = clean_nlp(' '.join(df[df.language == 'R'].readme_contents))\n",
    "\n",
    "c = clean_nlp(' '.join(df[df.language == 'C'].readme_contents))\n",
    "\n",
    "css = clean_nlp(' '.join(df[df.language == 'CSS'].readme_contents))\n",
    "\n",
    "jup = clean_nlp(' '.join(df[df.language == 'Jupyter Notebook'].readme_contents))\n",
    "\n",
    "all_words = clean_nlp(' '.join(df.readme_contents))"
   ]
  },
  {
   "cell_type": "code",
   "execution_count": 15,
   "metadata": {},
   "outputs": [
    {
     "data": {
      "text/html": [
       "<div>\n",
       "<style scoped>\n",
       "    .dataframe tbody tr th:only-of-type {\n",
       "        vertical-align: middle;\n",
       "    }\n",
       "\n",
       "    .dataframe tbody tr th {\n",
       "        vertical-align: top;\n",
       "    }\n",
       "\n",
       "    .dataframe thead th {\n",
       "        text-align: right;\n",
       "    }\n",
       "</style>\n",
       "<table border=\"1\" class=\"dataframe\">\n",
       "  <thead>\n",
       "    <tr style=\"text-align: right;\">\n",
       "      <th></th>\n",
       "      <th></th>\n",
       "      <th>written_language</th>\n",
       "    </tr>\n",
       "    <tr>\n",
       "      <th>language</th>\n",
       "      <th>written_language</th>\n",
       "      <th></th>\n",
       "    </tr>\n",
       "  </thead>\n",
       "  <tbody>\n",
       "    <tr>\n",
       "      <th>C#</th>\n",
       "      <th>en</th>\n",
       "      <td>10</td>\n",
       "    </tr>\n",
       "    <tr>\n",
       "      <th rowspan=\"2\" valign=\"top\">C++</th>\n",
       "      <th>en</th>\n",
       "      <td>13</td>\n",
       "    </tr>\n",
       "    <tr>\n",
       "      <th>pt</th>\n",
       "      <td>1</td>\n",
       "    </tr>\n",
       "    <tr>\n",
       "      <th rowspan=\"4\" valign=\"top\">HTML</th>\n",
       "      <th>en</th>\n",
       "      <td>12</td>\n",
       "    </tr>\n",
       "    <tr>\n",
       "      <th>es</th>\n",
       "      <td>3</td>\n",
       "    </tr>\n",
       "    <tr>\n",
       "      <th>fr</th>\n",
       "      <td>3</td>\n",
       "    </tr>\n",
       "    <tr>\n",
       "      <th>pt</th>\n",
       "      <td>2</td>\n",
       "    </tr>\n",
       "    <tr>\n",
       "      <th rowspan=\"2\" valign=\"top\">Java</th>\n",
       "      <th>en</th>\n",
       "      <td>11</td>\n",
       "    </tr>\n",
       "    <tr>\n",
       "      <th>pt</th>\n",
       "      <td>2</td>\n",
       "    </tr>\n",
       "    <tr>\n",
       "      <th rowspan=\"3\" valign=\"top\">JavaScript</th>\n",
       "      <th>en</th>\n",
       "      <td>46</td>\n",
       "    </tr>\n",
       "    <tr>\n",
       "      <th>es</th>\n",
       "      <td>2</td>\n",
       "    </tr>\n",
       "    <tr>\n",
       "      <th>pt</th>\n",
       "      <td>2</td>\n",
       "    </tr>\n",
       "    <tr>\n",
       "      <th>Jupyter Notebook</th>\n",
       "      <th>en</th>\n",
       "      <td>9</td>\n",
       "    </tr>\n",
       "    <tr>\n",
       "      <th rowspan=\"2\" valign=\"top\">PHP</th>\n",
       "      <th>en</th>\n",
       "      <td>10</td>\n",
       "    </tr>\n",
       "    <tr>\n",
       "      <th>fr</th>\n",
       "      <td>3</td>\n",
       "    </tr>\n",
       "    <tr>\n",
       "      <th rowspan=\"2\" valign=\"top\">Python</th>\n",
       "      <th>en</th>\n",
       "      <td>25</td>\n",
       "    </tr>\n",
       "    <tr>\n",
       "      <th>pt</th>\n",
       "      <td>2</td>\n",
       "    </tr>\n",
       "    <tr>\n",
       "      <th rowspan=\"2\" valign=\"top\">R</th>\n",
       "      <th>en</th>\n",
       "      <td>6</td>\n",
       "    </tr>\n",
       "    <tr>\n",
       "      <th>pt</th>\n",
       "      <td>1</td>\n",
       "    </tr>\n",
       "    <tr>\n",
       "      <th>Ruby</th>\n",
       "      <th>en</th>\n",
       "      <td>11</td>\n",
       "    </tr>\n",
       "    <tr>\n",
       "      <th rowspan=\"3\" valign=\"top\">TypeScript</th>\n",
       "      <th>en</th>\n",
       "      <td>10</td>\n",
       "    </tr>\n",
       "    <tr>\n",
       "      <th>es</th>\n",
       "      <td>1</td>\n",
       "    </tr>\n",
       "    <tr>\n",
       "      <th>pt</th>\n",
       "      <td>1</td>\n",
       "    </tr>\n",
       "  </tbody>\n",
       "</table>\n",
       "</div>"
      ],
      "text/plain": [
       "                                   written_language\n",
       "language         written_language                  \n",
       "C#               en                              10\n",
       "C++              en                              13\n",
       "                 pt                               1\n",
       "HTML             en                              12\n",
       "                 es                               3\n",
       "                 fr                               3\n",
       "                 pt                               2\n",
       "Java             en                              11\n",
       "                 pt                               2\n",
       "JavaScript       en                              46\n",
       "                 es                               2\n",
       "                 pt                               2\n",
       "Jupyter Notebook en                               9\n",
       "PHP              en                              10\n",
       "                 fr                               3\n",
       "Python           en                              25\n",
       "                 pt                               2\n",
       "R                en                               6\n",
       "                 pt                               1\n",
       "Ruby             en                              11\n",
       "TypeScript       en                              10\n",
       "                 es                               1\n",
       "                 pt                               1"
      ]
     },
     "execution_count": 15,
     "metadata": {},
     "output_type": "execute_result"
    }
   ],
   "source": [
    "df.groupby('language').written_language.value_counts().to_frame()"
   ]
  },
  {
   "cell_type": "markdown",
   "metadata": {},
   "source": [
    "<h4>Takeaways</h4>\n",
    "\n",
    "- English is the dominant language of the README files for each of the programming languages\n",
    "- Ruby, Jupyter Notebook, & C Sharp are the only languages to have README files solely in English"
   ]
  },
  {
   "cell_type": "code",
   "execution_count": 10,
   "metadata": {
    "jupyter": {
     "source_hidden": true
    }
   },
   "outputs": [
    {
     "name": "stderr",
     "output_type": "stream",
     "text": [
      "<ipython-input-10-8e8c4682fba7>:13: DeprecationWarning: The default dtype for empty Series will be 'object' instead of 'float64' in a future version. Specify a dtype explicitly to silence this warning.\n",
      "  c_freq = pd.Series(c).value_counts()\n",
      "<ipython-input-10-8e8c4682fba7>:14: DeprecationWarning: The default dtype for empty Series will be 'object' instead of 'float64' in a future version. Specify a dtype explicitly to silence this warning.\n",
      "  css_freq = pd.Series(css).value_counts()\n"
     ]
    }
   ],
   "source": [
    "# get word frequencies for each language\n",
    "\n",
    "js_freq = pd.Series(js).value_counts()\n",
    "python_freq = pd.Series(python).value_counts()\n",
    "html_freq = pd.Series(html).value_counts()\n",
    "php_freq = pd.Series(php).value_counts()\n",
    "cplus_freq = pd.Series(cplus).value_counts()\n",
    "java_freq = pd.Series(java).value_counts()\n",
    "csharp_freq = pd.Series(csharp).value_counts()\n",
    "type_script_freq = pd.Series(type_script).value_counts()\n",
    "ruby_freq = pd.Series(ruby).value_counts()\n",
    "r_freq = pd.Series(r).value_counts()\n",
    "c_freq = pd.Series(c).value_counts()\n",
    "css_freq = pd.Series(css).value_counts()\n",
    "jup_freq = pd.Series(jup).value_counts()\n",
    "all_freq = pd.Series(all_words).value_counts()"
   ]
  },
  {
   "cell_type": "code",
   "execution_count": 14,
   "metadata": {
    "jupyter": {
     "source_hidden": true
    }
   },
   "outputs": [],
   "source": [
    "# Get a total word counts column by concating all langauge word frequencies.\n",
    "\n",
    "word_counts = (pd.concat([all_freq,\n",
    "                          js_freq,\n",
    "                          python_freq,\n",
    "                          html_freq,\n",
    "                          php_freq,\n",
    "                          cplus_freq,\n",
    "                          java_freq,\n",
    "                          csharp_freq,\n",
    "                          type_script_freq,\n",
    "                          ruby_freq,\n",
    "                         r_freq,\n",
    "                         c_freq,\n",
    "                         css_freq,\n",
    "                         jup_freq], axis=1, sort=True)\n",
    "                .set_axis(['all', 'js', 'python', 'html', 'php','cplus', 'java', 'csharp', 'typescript', 'ruby', 'r', 'c', 'css', 'jup'], axis=1, inplace=False)\n",
    "                .fillna(0)\n",
    "                .apply(lambda s: s.astype(int)))\n"
   ]
  },
  {
   "cell_type": "code",
   "execution_count": 19,
   "metadata": {
    "jupyter": {
     "source_hidden": true
    }
   },
   "outputs": [
    {
     "data": {
      "image/png": "[encoded data removed]",
      "text/plain": [
       "<Figure size 432x288 with 1 Axes>"
      ]
     },
     "metadata": {
      "needs_background": "light"
     },
     "output_type": "display_data"
    }
   ],
   "source": [
    " # figure out the percentage of Javascript vs Python\n",
    "(word_counts\n",
    " .assign(p_js=word_counts.js / word_counts['all'],\n",
    "         p_python=word_counts.python / word_counts['all'])\n",
    " .sort_values(by='all')\n",
    " [['p_js', 'p_python']]\n",
    " .tail(20)\n",
    " .sort_values('p_js')\n",
    " .plot.barh(stacked=True))\n",
    "\n",
    "plt.title('Proportion of JavaScript vs Python for the 20 most common words')\n",
    "plt.show()"
   ]
  },
  {
   "cell_type": "code",
   "execution_count": 21,
   "metadata": {
    "jupyter": {
     "source_hidden": true
    }
   },
   "outputs": [
    {
     "data": {
      "image/png": "[encoded data removed]",
      "text/plain": [
       "<Figure size 432x288 with 1 Axes>"
      ]
     },
     "metadata": {
      "needs_background": "light"
     },
     "output_type": "display_data"
    }
   ],
   "source": [
    " # figure out the percentage of Python vs HTML\n",
    "(word_counts\n",
    " .assign(p_python=word_counts.python / word_counts['all'],\n",
    "         p_html=word_counts.html / word_counts['all'])\n",
    " .sort_values(by='all')\n",
    " [['p_python', 'p_html']]\n",
    " .tail(20)\n",
    " .sort_values('p_python')\n",
    " .plot.barh(stacked=True))\n",
    "\n",
    "plt.title('Proportion of Python vs HTML for the 20 most common words')\n",
    "plt.show()"
   ]
  },
  {
   "cell_type": "code",
   "execution_count": 23,
   "metadata": {
    "jupyter": {
     "source_hidden": true
    }
   },
   "outputs": [
    {
     "data": {
      "image/png": "[encoded data removed]",
      "text/plain": [
       "<Figure size 432x288 with 1 Axes>"
      ]
     },
     "metadata": {
      "needs_background": "light"
     },
     "output_type": "display_data"
    }
   ],
   "source": [
    " # figure out the percentage of C ++ vs Java\n",
    "(word_counts\n",
    " .assign(p_cplus=word_counts.cplus / word_counts['all'],\n",
    "         p_java=word_counts.java / word_counts['all'])\n",
    " .sort_values(by='all')\n",
    " [['p_cplus', 'p_java']]\n",
    " .tail(20)\n",
    " .sort_values('p_cplus')\n",
    " .plot.barh(stacked=True))\n",
    "\n",
    "plt.title('Proportion of C++ vs Java for the 20 most common words')\n",
    "plt.show()"
   ]
  },
  {
   "cell_type": "code",
   "execution_count": 24,
   "metadata": {
    "jupyter": {
     "source_hidden": true
    }
   },
   "outputs": [
    {
     "data": {
      "image/png": "[encoded data removed]",
      "text/plain": [
       "<Figure size 432x288 with 1 Axes>"
      ]
     },
     "metadata": {
      "needs_background": "light"
     },
     "output_type": "display_data"
    }
   ],
   "source": [
    " # figure out the percentage of php vs java\n",
    "(word_counts\n",
    " .assign(p_php=word_counts.php / word_counts['all'],\n",
    "         p_java=word_counts.java / word_counts['all'])\n",
    " .sort_values(by='all')\n",
    " [['p_php', 'p_java']]\n",
    " .tail(20)\n",
    " .sort_values('p_php')\n",
    " .plot.barh(stacked=True))\n",
    "\n",
    "plt.title('Proportion of PHP vs Java for the 20 most common words')\n",
    "plt.show()"
   ]
  },
  {
   "cell_type": "code",
   "execution_count": 26,
   "metadata": {
    "jupyter": {
     "source_hidden": true
    }
   },
   "outputs": [
    {
     "data": {
      "image/png": "[encoded data removed]",
      "text/plain": [
       "<Figure size 432x288 with 1 Axes>"
      ]
     },
     "metadata": {
      "needs_background": "light"
     },
     "output_type": "display_data"
    }
   ],
   "source": [
    " # figure out the percentage of Python vs Java\n",
    "(word_counts\n",
    " .assign(p_python=word_counts.python / word_counts['all'],\n",
    "         p_java=word_counts.java / word_counts['all'])\n",
    " .sort_values(by='all')\n",
    " [['p_python', 'p_java']]\n",
    " .tail(20)\n",
    " .sort_values('p_python')\n",
    " .plot.barh(stacked=True))\n",
    "\n",
    "plt.title('Proportion of Python vs Java for the 20 most common words')\n",
    "plt.show()"
   ]
  },
  {
   "cell_type": "code",
   "execution_count": null,
   "metadata": {},
   "outputs": [],
   "source": []
  }
 ],
 "metadata": {
  "kernelspec": {
   "display_name": "Python 3",
   "language": "python",
   "name": "python3"
  },
  "language_info": {
   "codemirror_mode": {
    "name": "ipython",
    "version": 3
   },
   "file_extension": ".py",
   "mimetype": "text/x-python",
   "name": "python",
   "nbconvert_exporter": "python",
   "pygments_lexer": "ipython3",
   "version": "3.8.5"
  }
 },
 "nbformat": 4,
 "nbformat_minor": 4
}
