{
 "cells": [
  {
   "cell_type": "markdown",
   "metadata": {},
   "source": [
    "\n",
    "<div align=\"center\"><img width=\"275\" height=\"50\" src=\"http://www.essentiallysports.com/wp-content/uploads/f1-logo.jpg\"/> </div> \n",
    "\n",
    "<div align=\"center\"> <h1>NLP Project</h1> \n",
    "  <h6> by David Berchelmann -- May 11, 2021 </h6> </div>\n",
    "  \n",
    "  ------------------------------------------------"
   ]
  },
  {
   "cell_type": "markdown",
   "metadata": {},
   "source": [
    "<div align=\"center\"><img width=\"800\" height=\"50\" src=\"https://communityimpact.com/wp-content/uploads/2016/10/cropCircuitoftheAmericas_USGP_20151023_Rizzo_89640-2.jpg\" /> </div>\n",
    "\n",
    "-----"
   ]
  },
  {
   "cell_type": "markdown",
   "metadata": {},
   "source": [
    "-------\n",
    "\n",
    "<h1> Welcome! </h1>\n",
    "\n",
    "The following jupyter notebook will take you through my NLP project focusing on git hub repositorys covering formula 1.  \n",
    "\n",
    "All of the files and notebooks for this project can be accessed via the github repostiory located at --> https://github.com/DBerchelmann/nlp-project\n",
    "\n",
    "\n",
    "\n",
    "----"
   ]
  },
  {
   "cell_type": "markdown",
   "metadata": {},
   "source": [
    "<h1> Executive Summary </h1>\n",
    "\n",
    "------\n",
    "\n",
    "<h4><b>The Problem</b></h4>\n",
    "\n",
    "- Can a repository's programming language be determined by a model built off of natural language processing?\n",
    "\n",
    "<h4><b>The Goal</b></h4>\n",
    "\n",
    "- Create a predictive model using natural language processing that can determine the dominant programming language used in github repositories based on the text of the README files.\n",
    "\n",
    "<h4><b>The Process</b></h4>\n",
    "\n",
    "  * Acquire the Data\n",
    "  * Prepare \n",
    "  * Explore \n",
    "  * Model\n",
    "  * Findings/Recommendations\n",
    "  \n",
    "<h4><b>The Findings</b></h4>\n",
    "\n",
    "\n",
    "    \n",
    "    \n",
    " \n",
    "\n",
    "\n",
    "-------\n"
   ]
  },
  {
   "cell_type": "code",
   "execution_count": null,
   "metadata": {},
   "outputs": [],
   "source": []
  }
 ],
 "metadata": {
  "kernelspec": {
   "display_name": "Python 3",
   "language": "python",
   "name": "python3"
  },
  "language_info": {
   "codemirror_mode": {
    "name": "ipython",
    "version": 3
   },
   "file_extension": ".py",
   "mimetype": "text/x-python",
   "name": "python",
   "nbconvert_exporter": "python",
   "pygments_lexer": "ipython3",
   "version": "3.8.5"
  }
 },
 "nbformat": 4,
 "nbformat_minor": 4
}
