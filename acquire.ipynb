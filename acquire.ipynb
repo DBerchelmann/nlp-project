{
 "cells": [
  {
   "cell_type": "code",
   "execution_count": 1,
   "metadata": {},
   "outputs": [],
   "source": [
    "import os\n",
    "import json\n",
    "from typing import Dict, List, Optional, Union, cast\n",
    "import requests\n",
    "import pandas as pd\n",
    "import bs4\n",
    "import time\n",
    "\n",
    "from env import github_token, github_username\n",
    "\n",
    "import acquire\n",
    "import wrangle"
   ]
  },
  {
   "cell_type": "code",
   "execution_count": null,
   "metadata": {},
   "outputs": [],
   "source": [
    "contents = acquire.scrape_github_data()\n"
   ]
  },
  {
   "cell_type": "code",
   "execution_count": null,
   "metadata": {},
   "outputs": [],
   "source": [
    "contents = pd.DataFrame(contents)"
   ]
  },
  {
   "cell_type": "code",
   "execution_count": null,
   "metadata": {},
   "outputs": [],
   "source": [
    "contents.dtypes"
   ]
  },
  {
   "cell_type": "code",
   "execution_count": null,
   "metadata": {},
   "outputs": [],
   "source": [
    "contents.shape"
   ]
  },
  {
   "cell_type": "code",
   "execution_count": null,
   "metadata": {},
   "outputs": [],
   "source": [
    "contents.to_csv('f1_readmes.csv', index=False)"
   ]
  },
  {
   "cell_type": "code",
   "execution_count": null,
   "metadata": {},
   "outputs": [],
   "source": [
    "contents.readme_contents[1]"
   ]
  },
  {
   "cell_type": "code",
   "execution_count": null,
   "metadata": {},
   "outputs": [],
   "source": [
    "def make_soup(url):\n",
    "    '''\n",
    "    This helper function takes in a url and requests and parses HTML\n",
    "    returning a soup object.\n",
    "    '''\n",
    "    # set headers and response variables\n",
    "    headers = {'User-Agent': 'Codeup Data Science'} \n",
    "    response = requests.get(url, headers=headers)\n",
    "    # use BeartifulSoup to make object\n",
    "    html = response.text\n",
    "    soup = bs4.BeautifulSoup(html)\n",
    "    return soup"
   ]
  },
  {
   "cell_type": "markdown",
   "metadata": {},
   "source": [
    "\n",
    "def github_urls_single_page():\n",
    "    '''\n",
    "    This function scrapes all of the evironmental urls from\n",
    "    the github first search page and returns a list of urls.\n",
    "    '''\n",
    "    # The base url for the main github search page we are using\n",
    "    url = 'https://github.com/search?q=formula+1&type=repositories'\n",
    "    \n",
    "    # Make request and soup object using helper\n",
    "    soup = make_soup(url)\n",
    "    \n",
    "    # Create a list of the anchor elements that hold the urls.\n",
    "    urls_list = soup.find_all('a', class_='v-align-middle')\n",
    "    # for each url in the find all list get just the 'href' link\n",
    "    urls = {link.get('href') for link in urls_list}\n",
    "    # make a list of these urls\n",
    "    urls = list(urls)\n",
    "    return urls"
   ]
  },
  {
   "cell_type": "code",
   "execution_count": null,
   "metadata": {},
   "outputs": [],
   "source": [
    "def github_urls():\n",
    "    '''\n",
    "    This function scrapes all of the Formula 1 urls from\n",
    "    the github search page and returns a list of urls.\n",
    "    '''\n",
    "    # get the first 50 pages to allow for those that don't have readme or language\n",
    "    pages = range(1, 50)\n",
    "    urls = []\n",
    "    \n",
    "    for p in pages:\n",
    "        \n",
    "        # format string of the base url for the main github search page we are using to update with page number\n",
    "        url = f'https://github.com/search?p={p}&q=formula+1&s=stars&type=Repositories'\n",
    "\n",
    "        # Make request and soup object using helper\n",
    "        soup = make_soup(url)\n",
    "\n",
    "        # Create a list of the anchor elements that hold the urls on this search page\n",
    "        page_urls_list = soup.find_all('a', class_='v-align-middle')\n",
    "        # for each url in the find all list get just the 'href' link\n",
    "        page_urls = {link.get('href') for link in page_urls_list}\n",
    "        # make a list of these urls\n",
    "        page_urls = list(page_urls)\n",
    "        # append the list from the page to the full list to return\n",
    "        urls.append(page_urls)\n",
    "        time.sleep(5)\n",
    "        \n",
    "    # flatten the urls list\n",
    "    urls = [y for x in urls for y in x]\n",
    "    return urls"
   ]
  },
  {
   "cell_type": "code",
   "execution_count": null,
   "metadata": {},
   "outputs": [],
   "source": [
    "urls = github_urls()"
   ]
  },
  {
   "cell_type": "code",
   "execution_count": null,
   "metadata": {},
   "outputs": [],
   "source": [
    "len(urls)\n"
   ]
  },
  {
   "cell_type": "code",
   "execution_count": null,
   "metadata": {},
   "outputs": [],
   "source": [
    "urls"
   ]
  },
  {
   "cell_type": "code",
   "execution_count": null,
   "metadata": {},
   "outputs": [],
   "source": []
  },
  {
   "cell_type": "code",
   "execution_count": 2,
   "metadata": {},
   "outputs": [],
   "source": [
    "df = wrangle.first_clean()"
   ]
  },
  {
   "cell_type": "code",
   "execution_count": 3,
   "metadata": {},
   "outputs": [
    {
     "data": {
      "text/html": [
       "<div>\n",
       "<style scoped>\n",
       "    .dataframe tbody tr th:only-of-type {\n",
       "        vertical-align: middle;\n",
       "    }\n",
       "\n",
       "    .dataframe tbody tr th {\n",
       "        vertical-align: top;\n",
       "    }\n",
       "\n",
       "    .dataframe thead th {\n",
       "        text-align: right;\n",
       "    }\n",
       "</style>\n",
       "<table border=\"1\" class=\"dataframe\">\n",
       "  <thead>\n",
       "    <tr style=\"text-align: right;\">\n",
       "      <th></th>\n",
       "      <th>repo</th>\n",
       "      <th>language</th>\n",
       "      <th>readme_contents</th>\n",
       "      <th>written_language</th>\n",
       "    </tr>\n",
       "  </thead>\n",
       "  <tbody>\n",
       "    <tr>\n",
       "      <th>0</th>\n",
       "      <td>ppatierno/formula1-telemetry-kafka</td>\n",
       "      <td>Java</td>\n",
       "      <td># Formula 1 - Telemetry with Apache Kafka\\n\\nT...</td>\n",
       "      <td>en</td>\n",
       "    </tr>\n",
       "    <tr>\n",
       "      <th>2</th>\n",
       "      <td>jcnewell/ergast-f1-api</td>\n",
       "      <td>PHP</td>\n",
       "      <td># Ergast nodeJS API\\nIn this period we are wor...</td>\n",
       "      <td>en</td>\n",
       "    </tr>\n",
       "    <tr>\n",
       "      <th>5</th>\n",
       "      <td>izenecloud/sf1r-lite</td>\n",
       "      <td>C++</td>\n",
       "      <td>SF1R-Lite(Search Formula-1 Lite Engine)\\n=====...</td>\n",
       "      <td>en</td>\n",
       "    </tr>\n",
       "    <tr>\n",
       "      <th>7</th>\n",
       "      <td>jonybur/f1-telemetry-client</td>\n",
       "      <td>TypeScript</td>\n",
       "      <td># F1 Telemetry Client\\n\\n&lt;img src=\"https://img...</td>\n",
       "      <td>en</td>\n",
       "    </tr>\n",
       "    <tr>\n",
       "      <th>8</th>\n",
       "      <td>davidor/formula1-lap-charts</td>\n",
       "      <td>JavaScript</td>\n",
       "      <td># Formula 1 Lap Charts\\n\\nInteractive lap char...</td>\n",
       "      <td>en</td>\n",
       "    </tr>\n",
       "  </tbody>\n",
       "</table>\n",
       "</div>"
      ],
      "text/plain": [
       "                                 repo    language  \\\n",
       "0  ppatierno/formula1-telemetry-kafka        Java   \n",
       "2              jcnewell/ergast-f1-api         PHP   \n",
       "5                izenecloud/sf1r-lite         C++   \n",
       "7         jonybur/f1-telemetry-client  TypeScript   \n",
       "8         davidor/formula1-lap-charts  JavaScript   \n",
       "\n",
       "                                     readme_contents written_language  \n",
       "0  # Formula 1 - Telemetry with Apache Kafka\\n\\nT...               en  \n",
       "2  # Ergast nodeJS API\\nIn this period we are wor...               en  \n",
       "5  SF1R-Lite(Search Formula-1 Lite Engine)\\n=====...               en  \n",
       "7  # F1 Telemetry Client\\n\\n<img src=\"https://img...               en  \n",
       "8  # Formula 1 Lap Charts\\n\\nInteractive lap char...               en  "
      ]
     },
     "execution_count": 3,
     "metadata": {},
     "output_type": "execute_result"
    }
   ],
   "source": [
    "df.head()"
   ]
  },
  {
   "cell_type": "code",
   "execution_count": 4,
   "metadata": {},
   "outputs": [
    {
     "data": {
      "text/plain": [
       "en    163\n",
       "pt     11\n",
       "fr      6\n",
       "es      6\n",
       "Name: written_language, dtype: int64"
      ]
     },
     "execution_count": 4,
     "metadata": {},
     "output_type": "execute_result"
    }
   ],
   "source": [
    "df.written_language.value_counts()"
   ]
  },
  {
   "cell_type": "code",
   "execution_count": 5,
   "metadata": {},
   "outputs": [
    {
     "data": {
      "text/plain": [
       "JavaScript          50\n",
       "Python              27\n",
       "HTML                20\n",
       "C++                 14\n",
       "Java                13\n",
       "PHP                 13\n",
       "TypeScript          12\n",
       "Ruby                11\n",
       "C#                  10\n",
       "Jupyter Notebook     9\n",
       "R                    7\n",
       "Name: language, dtype: int64"
      ]
     },
     "execution_count": 5,
     "metadata": {},
     "output_type": "execute_result"
    }
   ],
   "source": [
    "df.language.value_counts()"
   ]
  },
  {
   "cell_type": "code",
   "execution_count": null,
   "metadata": {},
   "outputs": [],
   "source": []
  }
 ],
 "metadata": {
  "kernelspec": {
   "display_name": "Python 3",
   "language": "python",
   "name": "python3"
  },
  "language_info": {
   "codemirror_mode": {
    "name": "ipython",
    "version": 3
   },
   "file_extension": ".py",
   "mimetype": "text/x-python",
   "name": "python",
   "nbconvert_exporter": "python",
   "pygments_lexer": "ipython3",
   "version": "3.8.5"
  }
 },
 "nbformat": 4,
 "nbformat_minor": 4
}
